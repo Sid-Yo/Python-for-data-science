{
  "nbformat": 4,
  "nbformat_minor": 0,
  "metadata": {
    "colab": {
      "name": "Pandas.ipynb",
      "provenance": [],
      "authorship_tag": "ABX9TyPZa6J5nXliGo5EIah3A0OR",
      "include_colab_link": true
    },
    "kernelspec": {
      "name": "python3",
      "display_name": "Python 3"
    }
  },
  "cells": [
    {
      "cell_type": "markdown",
      "metadata": {
        "id": "view-in-github",
        "colab_type": "text"
      },
      "source": [
        "<a href=\"https://colab.research.google.com/github/Sid-Yo/Python-for-data-science/blob/master/Pandas.ipynb\" target=\"_parent\"><img src=\"https://colab.research.google.com/assets/colab-badge.svg\" alt=\"Open In Colab\"/></a>"
      ]
    },
    {
      "cell_type": "code",
      "metadata": {
        "id": "P4C-MG7Ixkc3",
        "colab_type": "code",
        "colab": {
          "base_uri": "https://localhost:8080/",
          "height": 102
        },
        "outputId": "6812a477-1e5a-4933-a73f-0418dc067435"
      },
      "source": [
        "import pandas as pd\n",
        "\n",
        "#Data given to the dataframe can be of any form\n",
        "\n",
        "print('Data passed as dictionary')\n",
        "dict_df = pd.DataFrame({\"A\": [1, 2, 3], \"B\": [4, 5, 6]})\n",
        "print(dict_df)"
      ],
      "execution_count": null,
      "outputs": [
        {
          "output_type": "stream",
          "text": [
            "Data passed as dictionary\n",
            "   A  B\n",
            "0  1  4\n",
            "1  2  5\n",
            "2  3  6\n"
          ],
          "name": "stdout"
        }
      ]
    },
    {
      "cell_type": "code",
      "metadata": {
        "id": "PmLKJMbixrrk",
        "colab_type": "code",
        "colab": {
          "base_uri": "https://localhost:8080/",
          "height": 119
        },
        "outputId": "e9038883-d070-486d-f634-2c5a49400836"
      },
      "source": [
        "print('Data pass as list')\n",
        "dict_lst = pd.DataFrame([1,2,3,4])\n",
        "print(dict_lst)"
      ],
      "execution_count": null,
      "outputs": [
        {
          "output_type": "stream",
          "text": [
            "Data pass as list\n",
            "   0\n",
            "0  1\n",
            "1  2\n",
            "2  3\n",
            "3  4\n"
          ],
          "name": "stdout"
        }
      ]
    },
    {
      "cell_type": "code",
      "metadata": {
        "id": "w58uPYUux1ii",
        "colab_type": "code",
        "colab": {
          "base_uri": "https://localhost:8080/",
          "height": 119
        },
        "outputId": "3f5419ae-ec71-4612-b43b-de30395e194d"
      },
      "source": [
        "print('Data passed as list of list')\n",
        "dict_llst = pd.DataFrame([['May1',32],['May2',35],['May3',40],['May4',50]])\n",
        "print(dict_llst)"
      ],
      "execution_count": null,
      "outputs": [
        {
          "output_type": "stream",
          "text": [
            "Data passed as list of list\n",
            "      0   1\n",
            "0  May1  32\n",
            "1  May2  35\n",
            "2  May3  40\n",
            "3  May4  50\n"
          ],
          "name": "stdout"
        }
      ]
    },
    {
      "cell_type": "code",
      "metadata": {
        "id": "6Pp_Xa7mx4gh",
        "colab_type": "code",
        "colab": {
          "base_uri": "https://localhost:8080/",
          "height": 85
        },
        "outputId": "5480c93e-1fdc-4af2-aef5-de256320c558"
      },
      "source": [
        "print('Data passed as list of dict')\n",
        "dict_ldf = pd.DataFrame([{'a': 1, 'b': 2},{'a': 5, 'b': 10}])\n",
        "print(dict_ldf)"
      ],
      "execution_count": null,
      "outputs": [
        {
          "output_type": "stream",
          "text": [
            "Data passed as list of dict\n",
            "   a   b\n",
            "0  1   2\n",
            "1  5  10\n"
          ],
          "name": "stdout"
        }
      ]
    },
    {
      "cell_type": "code",
      "metadata": {
        "id": "Gvt00cS_x_En",
        "colab_type": "code",
        "colab": {
          "base_uri": "https://localhost:8080/",
          "height": 119
        },
        "outputId": "d5167a3e-b1c3-4d7c-d24b-2010439e4c84"
      },
      "source": [
        "print('Changing the datatype to float with dtype setter to float')\n",
        "dict_ldf = pd.DataFrame([{'a': 1, 'b': 2},{'a': 5, 'b': 10}],dtype=float)\n",
        "print(dict_ldf)\n",
        "print('Getting the column names')\n",
        "print(dict_ldf.columns)"
      ],
      "execution_count": null,
      "outputs": [
        {
          "output_type": "stream",
          "text": [
            "Changing the datatype to float with dtype setter to float\n",
            "     a     b\n",
            "0  1.0   2.0\n",
            "1  5.0  10.0\n",
            "Getting the column names\n",
            "Index(['a', 'b'], dtype='object')\n"
          ],
          "name": "stdout"
        }
      ]
    },
    {
      "cell_type": "code",
      "metadata": {
        "id": "_IsPiszIyBtH",
        "colab_type": "code",
        "colab": {
          "base_uri": "https://localhost:8080/",
          "height": 128
        },
        "outputId": "5b4abdee-bc43-46e2-a020-4282f9ab1014"
      },
      "source": [
        "print('Renaming the column')\n",
        "dict_ldf.rename(columns={'a':'A','b':'B'},inplace=True)\n",
        "dict_ldf"
      ],
      "execution_count": null,
      "outputs": [
        {
          "output_type": "stream",
          "text": [
            "Renaming the column\n"
          ],
          "name": "stdout"
        },
        {
          "output_type": "execute_result",
          "data": {
            "text/html": [
              "<div>\n",
              "<style scoped>\n",
              "    .dataframe tbody tr th:only-of-type {\n",
              "        vertical-align: middle;\n",
              "    }\n",
              "\n",
              "    .dataframe tbody tr th {\n",
              "        vertical-align: top;\n",
              "    }\n",
              "\n",
              "    .dataframe thead th {\n",
              "        text-align: right;\n",
              "    }\n",
              "</style>\n",
              "<table border=\"1\" class=\"dataframe\">\n",
              "  <thead>\n",
              "    <tr style=\"text-align: right;\">\n",
              "      <th></th>\n",
              "      <th>A</th>\n",
              "      <th>B</th>\n",
              "    </tr>\n",
              "  </thead>\n",
              "  <tbody>\n",
              "    <tr>\n",
              "      <th>0</th>\n",
              "      <td>1.0</td>\n",
              "      <td>2.0</td>\n",
              "    </tr>\n",
              "    <tr>\n",
              "      <th>1</th>\n",
              "      <td>5.0</td>\n",
              "      <td>10.0</td>\n",
              "    </tr>\n",
              "  </tbody>\n",
              "</table>\n",
              "</div>"
            ],
            "text/plain": [
              "     A     B\n",
              "0  1.0   2.0\n",
              "1  5.0  10.0"
            ]
          },
          "metadata": {
            "tags": []
          },
          "execution_count": 9
        }
      ]
    },
    {
      "cell_type": "markdown",
      "metadata": {
        "id": "SZiItGY8ykUg",
        "colab_type": "text"
      },
      "source": [
        "# NaN\n",
        "- Column wise NaN\n",
        "- Row wise NaN\n",
        "- Check whether NaN exists\n",
        "- Count how many NaN exists\n",
        "- How to deal with NaN"
      ]
    },
    {
      "cell_type": "code",
      "metadata": {
        "id": "3JR54bqEyjuc",
        "colab_type": "code",
        "colab": {
          "base_uri": "https://localhost:8080/",
          "height": 68
        },
        "outputId": "14b5ccbe-5644-485c-ffd1-46356a223662"
      },
      "source": [
        "dict_col_nan = pd.DataFrame([{'a': 1, 'b': 2},{'a': 5, 'b': 10,'c':20}])\n",
        "print(dict_col_nan)"
      ],
      "execution_count": null,
      "outputs": [
        {
          "output_type": "stream",
          "text": [
            "   a   b     c\n",
            "0  1   2   NaN\n",
            "1  5  10  20.0\n"
          ],
          "name": "stdout"
        }
      ]
    },
    {
      "cell_type": "code",
      "metadata": {
        "id": "sFS0Xu9ayS2A",
        "colab_type": "code",
        "colab": {
          "base_uri": "https://localhost:8080/",
          "height": 102
        },
        "outputId": "6610604b-cf98-4b2b-f2f0-0ccd390aa50f"
      },
      "source": [
        "dict_row_nan = pd.DataFrame({\"A\": pd.Series([1, 2, 3],dtype = float), \"B\": pd.Series([4, 5, 6,9],dtype=float)})\n",
        "print(dict_row_nan)"
      ],
      "execution_count": null,
      "outputs": [
        {
          "output_type": "stream",
          "text": [
            "     A    B\n",
            "0  1.0  4.0\n",
            "1  2.0  5.0\n",
            "2  3.0  6.0\n",
            "3  NaN  9.0\n"
          ],
          "name": "stdout"
        }
      ]
    },
    {
      "cell_type": "code",
      "metadata": {
        "id": "avWPdwDJy1_d",
        "colab_type": "code",
        "colab": {
          "base_uri": "https://localhost:8080/",
          "height": 119
        },
        "outputId": "b8c914b4-bc36-4378-c4d9-8e0ae5540fdd"
      },
      "source": [
        "print('To check whether dataframe has null values?')\n",
        "#We use isnull function to check it\n",
        "print(dict_row_nan.isnull())"
      ],
      "execution_count": null,
      "outputs": [
        {
          "output_type": "stream",
          "text": [
            "To check whether dataframe has null values?\n",
            "       A      B\n",
            "0  False  False\n",
            "1  False  False\n",
            "2  False  False\n",
            "3   True  False\n"
          ],
          "name": "stdout"
        }
      ]
    },
    {
      "cell_type": "code",
      "metadata": {
        "id": "mLr_bGiey9VJ",
        "colab_type": "code",
        "colab": {
          "base_uri": "https://localhost:8080/",
          "height": 68
        },
        "outputId": "6fad3323-c9e6-4615-83ac-140f05028583"
      },
      "source": [
        "print(dict_row_nan.isnull().sum(axis=0))"
      ],
      "execution_count": null,
      "outputs": [
        {
          "output_type": "stream",
          "text": [
            "A    1\n",
            "B    0\n",
            "dtype: int64\n"
          ],
          "name": "stdout"
        }
      ]
    },
    {
      "cell_type": "code",
      "metadata": {
        "id": "ZJAbsK6izAZI",
        "colab_type": "code",
        "colab": {
          "base_uri": "https://localhost:8080/",
          "height": 68
        },
        "outputId": "be2f530e-2a4f-4dc2-9c41-37c83d9e801e"
      },
      "source": [
        "#As in dictionary key becomes column, so if we do not match up the 'columns' with keys it will show the those columns as NaN\n",
        "dict_ldf = pd.DataFrame([{'a': 1, 'b': 2},{'a': 5, 'b': 10,'c':20}],columns=['A','B','c'])\n",
        "print(dict_ldf)"
      ],
      "execution_count": null,
      "outputs": [
        {
          "output_type": "stream",
          "text": [
            "    A   B     c\n",
            "0 NaN NaN   NaN\n",
            "1 NaN NaN  20.0\n"
          ],
          "name": "stdout"
        }
      ]
    },
    {
      "cell_type": "code",
      "metadata": {
        "id": "SNc-mBTqzHey",
        "colab_type": "code",
        "colab": {
          "base_uri": "https://localhost:8080/",
          "height": 85
        },
        "outputId": "41446fde-8bde-427c-dc45-90efba5df3d6"
      },
      "source": [
        "print('Correct column will fill in values')\n",
        "\n",
        "dict_ldf = pd.DataFrame([{'a': 1, 'b': 2},{'a': 5, 'b': 10,'c':20}],columns=['a','b','c'])\n",
        "print(dict_ldf)"
      ],
      "execution_count": null,
      "outputs": [
        {
          "output_type": "stream",
          "text": [
            "Correct column will fill in values\n",
            "   a   b     c\n",
            "0  1   2   NaN\n",
            "1  5  10  20.0\n"
          ],
          "name": "stdout"
        }
      ]
    },
    {
      "cell_type": "markdown",
      "metadata": {
        "id": "-WJhXPrVzSjd",
        "colab_type": "text"
      },
      "source": [
        "# Column and Indexes\n",
        "In case of dictionary the keys would act as columns but in lists, the column names if not specified will start as '0'-1st column, '1'-2nd Column and so on The left most side of the dataframe is called as index, it's starts default with index 0"
      ]
    },
    {
      "cell_type": "code",
      "metadata": {
        "id": "2FC6dz1tzK1B",
        "colab_type": "code",
        "colab": {
          "base_uri": "https://localhost:8080/",
          "height": 173
        },
        "outputId": "74fabcc3-62cd-4dfa-ce06-8a63b8e9bd1d"
      },
      "source": [
        "dict_llst = pd.DataFrame([['May1',32],['May2',35],['May3',40],['May4',50]],index = ['Day1','Day2','Day3','Day4'])\n",
        "dict_llst"
      ],
      "execution_count": null,
      "outputs": [
        {
          "output_type": "execute_result",
          "data": {
            "text/html": [
              "<div>\n",
              "<style scoped>\n",
              "    .dataframe tbody tr th:only-of-type {\n",
              "        vertical-align: middle;\n",
              "    }\n",
              "\n",
              "    .dataframe tbody tr th {\n",
              "        vertical-align: top;\n",
              "    }\n",
              "\n",
              "    .dataframe thead th {\n",
              "        text-align: right;\n",
              "    }\n",
              "</style>\n",
              "<table border=\"1\" class=\"dataframe\">\n",
              "  <thead>\n",
              "    <tr style=\"text-align: right;\">\n",
              "      <th></th>\n",
              "      <th>0</th>\n",
              "      <th>1</th>\n",
              "    </tr>\n",
              "  </thead>\n",
              "  <tbody>\n",
              "    <tr>\n",
              "      <th>Day1</th>\n",
              "      <td>May1</td>\n",
              "      <td>32</td>\n",
              "    </tr>\n",
              "    <tr>\n",
              "      <th>Day2</th>\n",
              "      <td>May2</td>\n",
              "      <td>35</td>\n",
              "    </tr>\n",
              "    <tr>\n",
              "      <th>Day3</th>\n",
              "      <td>May3</td>\n",
              "      <td>40</td>\n",
              "    </tr>\n",
              "    <tr>\n",
              "      <th>Day4</th>\n",
              "      <td>May4</td>\n",
              "      <td>50</td>\n",
              "    </tr>\n",
              "  </tbody>\n",
              "</table>\n",
              "</div>"
            ],
            "text/plain": [
              "         0   1\n",
              "Day1  May1  32\n",
              "Day2  May2  35\n",
              "Day3  May3  40\n",
              "Day4  May4  50"
            ]
          },
          "metadata": {
            "tags": []
          },
          "execution_count": 16
        }
      ]
    },
    {
      "cell_type": "code",
      "metadata": {
        "id": "t6_PoSFJzgi1",
        "colab_type": "code",
        "colab": {
          "base_uri": "https://localhost:8080/",
          "height": 190
        },
        "outputId": "f2b8a3cf-deb2-454c-f7d0-c85c2b9f3b26"
      },
      "source": [
        "print('Changing column name while defining the dataframe')\n",
        "dict_llst = pd.DataFrame([['May1',32],['May2',35],['May3',40],['May4',50]],index = ['Day1','Day2','Day3','Day4'],columns = ['May','Temperature'])\n",
        "dict_llst\n"
      ],
      "execution_count": null,
      "outputs": [
        {
          "output_type": "stream",
          "text": [
            "Changing column name while defining the dataframe\n"
          ],
          "name": "stdout"
        },
        {
          "output_type": "execute_result",
          "data": {
            "text/html": [
              "<div>\n",
              "<style scoped>\n",
              "    .dataframe tbody tr th:only-of-type {\n",
              "        vertical-align: middle;\n",
              "    }\n",
              "\n",
              "    .dataframe tbody tr th {\n",
              "        vertical-align: top;\n",
              "    }\n",
              "\n",
              "    .dataframe thead th {\n",
              "        text-align: right;\n",
              "    }\n",
              "</style>\n",
              "<table border=\"1\" class=\"dataframe\">\n",
              "  <thead>\n",
              "    <tr style=\"text-align: right;\">\n",
              "      <th></th>\n",
              "      <th>May</th>\n",
              "      <th>Temperature</th>\n",
              "    </tr>\n",
              "  </thead>\n",
              "  <tbody>\n",
              "    <tr>\n",
              "      <th>Day1</th>\n",
              "      <td>May1</td>\n",
              "      <td>32</td>\n",
              "    </tr>\n",
              "    <tr>\n",
              "      <th>Day2</th>\n",
              "      <td>May2</td>\n",
              "      <td>35</td>\n",
              "    </tr>\n",
              "    <tr>\n",
              "      <th>Day3</th>\n",
              "      <td>May3</td>\n",
              "      <td>40</td>\n",
              "    </tr>\n",
              "    <tr>\n",
              "      <th>Day4</th>\n",
              "      <td>May4</td>\n",
              "      <td>50</td>\n",
              "    </tr>\n",
              "  </tbody>\n",
              "</table>\n",
              "</div>"
            ],
            "text/plain": [
              "       May  Temperature\n",
              "Day1  May1           32\n",
              "Day2  May2           35\n",
              "Day3  May3           40\n",
              "Day4  May4           50"
            ]
          },
          "metadata": {
            "tags": []
          },
          "execution_count": 17
        }
      ]
    },
    {
      "cell_type": "code",
      "metadata": {
        "id": "HinSO5eQzmWm",
        "colab_type": "code",
        "colab": {
          "base_uri": "https://localhost:8080/",
          "height": 204
        },
        "outputId": "3cd0af93-9656-4b7c-a185-03eaa07b87ba"
      },
      "source": [
        "dict_llst = pd.DataFrame([['May1',32],['May2',35],['May3',40],['May4',50]],columns = ['May','Temperature'])\n",
        "dict_llst=dict_llst.set_index('May')\n",
        "dict_llst"
      ],
      "execution_count": null,
      "outputs": [
        {
          "output_type": "execute_result",
          "data": {
            "text/html": [
              "<div>\n",
              "<style scoped>\n",
              "    .dataframe tbody tr th:only-of-type {\n",
              "        vertical-align: middle;\n",
              "    }\n",
              "\n",
              "    .dataframe tbody tr th {\n",
              "        vertical-align: top;\n",
              "    }\n",
              "\n",
              "    .dataframe thead th {\n",
              "        text-align: right;\n",
              "    }\n",
              "</style>\n",
              "<table border=\"1\" class=\"dataframe\">\n",
              "  <thead>\n",
              "    <tr style=\"text-align: right;\">\n",
              "      <th></th>\n",
              "      <th>Temperature</th>\n",
              "    </tr>\n",
              "    <tr>\n",
              "      <th>May</th>\n",
              "      <th></th>\n",
              "    </tr>\n",
              "  </thead>\n",
              "  <tbody>\n",
              "    <tr>\n",
              "      <th>May1</th>\n",
              "      <td>32</td>\n",
              "    </tr>\n",
              "    <tr>\n",
              "      <th>May2</th>\n",
              "      <td>35</td>\n",
              "    </tr>\n",
              "    <tr>\n",
              "      <th>May3</th>\n",
              "      <td>40</td>\n",
              "    </tr>\n",
              "    <tr>\n",
              "      <th>May4</th>\n",
              "      <td>50</td>\n",
              "    </tr>\n",
              "  </tbody>\n",
              "</table>\n",
              "</div>"
            ],
            "text/plain": [
              "      Temperature\n",
              "May              \n",
              "May1           32\n",
              "May2           35\n",
              "May3           40\n",
              "May4           50"
            ]
          },
          "metadata": {
            "tags": []
          },
          "execution_count": 20
        }
      ]
    },
    {
      "cell_type": "code",
      "metadata": {
        "id": "z_KAvFk2zrBn",
        "colab_type": "code",
        "colab": {
          "base_uri": "https://localhost:8080/",
          "height": 173
        },
        "outputId": "c728ea11-f34a-4e77-a622-867100310b90"
      },
      "source": [
        "dict_llst.reset_index(drop=False,inplace=True)\n",
        "dict_llst"
      ],
      "execution_count": null,
      "outputs": [
        {
          "output_type": "execute_result",
          "data": {
            "text/html": [
              "<div>\n",
              "<style scoped>\n",
              "    .dataframe tbody tr th:only-of-type {\n",
              "        vertical-align: middle;\n",
              "    }\n",
              "\n",
              "    .dataframe tbody tr th {\n",
              "        vertical-align: top;\n",
              "    }\n",
              "\n",
              "    .dataframe thead th {\n",
              "        text-align: right;\n",
              "    }\n",
              "</style>\n",
              "<table border=\"1\" class=\"dataframe\">\n",
              "  <thead>\n",
              "    <tr style=\"text-align: right;\">\n",
              "      <th></th>\n",
              "      <th>May</th>\n",
              "      <th>Temperature</th>\n",
              "    </tr>\n",
              "  </thead>\n",
              "  <tbody>\n",
              "    <tr>\n",
              "      <th>0</th>\n",
              "      <td>May1</td>\n",
              "      <td>32</td>\n",
              "    </tr>\n",
              "    <tr>\n",
              "      <th>1</th>\n",
              "      <td>May2</td>\n",
              "      <td>35</td>\n",
              "    </tr>\n",
              "    <tr>\n",
              "      <th>2</th>\n",
              "      <td>May3</td>\n",
              "      <td>40</td>\n",
              "    </tr>\n",
              "    <tr>\n",
              "      <th>3</th>\n",
              "      <td>May4</td>\n",
              "      <td>50</td>\n",
              "    </tr>\n",
              "  </tbody>\n",
              "</table>\n",
              "</div>"
            ],
            "text/plain": [
              "    May  Temperature\n",
              "0  May1           32\n",
              "1  May2           35\n",
              "2  May3           40\n",
              "3  May4           50"
            ]
          },
          "metadata": {
            "tags": []
          },
          "execution_count": 21
        }
      ]
    },
    {
      "cell_type": "markdown",
      "metadata": {
        "id": "KwlzONmg0oAP",
        "colab_type": "text"
      },
      "source": [
        "# Manipulation with Data\n",
        "- Accessing\n",
        "- Adding new columns\n",
        "- Adding columns with cool tricks\n",
        "- Deleting columns"
      ]
    },
    {
      "cell_type": "code",
      "metadata": {
        "id": "St6TNn620nrs",
        "colab_type": "code",
        "colab": {
          "base_uri": "https://localhost:8080/",
          "height": 173
        },
        "outputId": "17a8ebe1-28b3-4f4e-8517-a0c61d87aac4"
      },
      "source": [
        "df = pd.DataFrame([['May1',32],['May2',35],['May3',40],['May4',50]],index = ['Day1','Day2','Day3','Day4'],columns = ['May','Temperature'])\n",
        "df"
      ],
      "execution_count": null,
      "outputs": [
        {
          "output_type": "execute_result",
          "data": {
            "text/html": [
              "<div>\n",
              "<style scoped>\n",
              "    .dataframe tbody tr th:only-of-type {\n",
              "        vertical-align: middle;\n",
              "    }\n",
              "\n",
              "    .dataframe tbody tr th {\n",
              "        vertical-align: top;\n",
              "    }\n",
              "\n",
              "    .dataframe thead th {\n",
              "        text-align: right;\n",
              "    }\n",
              "</style>\n",
              "<table border=\"1\" class=\"dataframe\">\n",
              "  <thead>\n",
              "    <tr style=\"text-align: right;\">\n",
              "      <th></th>\n",
              "      <th>May</th>\n",
              "      <th>Temperature</th>\n",
              "    </tr>\n",
              "  </thead>\n",
              "  <tbody>\n",
              "    <tr>\n",
              "      <th>Day1</th>\n",
              "      <td>May1</td>\n",
              "      <td>32</td>\n",
              "    </tr>\n",
              "    <tr>\n",
              "      <th>Day2</th>\n",
              "      <td>May2</td>\n",
              "      <td>35</td>\n",
              "    </tr>\n",
              "    <tr>\n",
              "      <th>Day3</th>\n",
              "      <td>May3</td>\n",
              "      <td>40</td>\n",
              "    </tr>\n",
              "    <tr>\n",
              "      <th>Day4</th>\n",
              "      <td>May4</td>\n",
              "      <td>50</td>\n",
              "    </tr>\n",
              "  </tbody>\n",
              "</table>\n",
              "</div>"
            ],
            "text/plain": [
              "       May  Temperature\n",
              "Day1  May1           32\n",
              "Day2  May2           35\n",
              "Day3  May3           40\n",
              "Day4  May4           50"
            ]
          },
          "metadata": {
            "tags": []
          },
          "execution_count": 22
        }
      ]
    },
    {
      "cell_type": "code",
      "metadata": {
        "id": "XKHZrtgm0Du2",
        "colab_type": "code",
        "colab": {
          "base_uri": "https://localhost:8080/",
          "height": 119
        },
        "outputId": "4a052f0f-379f-4e94-dfca-7f053f3e86fc"
      },
      "source": [
        "print('Accessing whole column by its name')\n",
        "df['Temperature']\n"
      ],
      "execution_count": null,
      "outputs": [
        {
          "output_type": "stream",
          "text": [
            "Accessing whole column by its name\n"
          ],
          "name": "stdout"
        },
        {
          "output_type": "execute_result",
          "data": {
            "text/plain": [
              "Day1    32\n",
              "Day2    35\n",
              "Day3    40\n",
              "Day4    50\n",
              "Name: Temperature, dtype: int64"
            ]
          },
          "metadata": {
            "tags": []
          },
          "execution_count": 23
        }
      ]
    },
    {
      "cell_type": "code",
      "metadata": {
        "id": "blpkCtdv0_RC",
        "colab_type": "code",
        "colab": {
          "base_uri": "https://localhost:8080/",
          "height": 190
        },
        "outputId": "baaaf2be-2e7f-4bf6-e50b-63556c1e9075"
      },
      "source": [
        "print('Adding Column with and without index see the diff')\n",
        "add_column = pd.Series(['Charni Rd','Grant Rd','Marine Lines','Churchgate'],index=['Day1','Day2','Day3','Day4'])\n",
        "df['Stations'] = add_column\n",
        "df"
      ],
      "execution_count": null,
      "outputs": [
        {
          "output_type": "stream",
          "text": [
            "Adding Column with and without index see the diff\n"
          ],
          "name": "stdout"
        },
        {
          "output_type": "execute_result",
          "data": {
            "text/html": [
              "<div>\n",
              "<style scoped>\n",
              "    .dataframe tbody tr th:only-of-type {\n",
              "        vertical-align: middle;\n",
              "    }\n",
              "\n",
              "    .dataframe tbody tr th {\n",
              "        vertical-align: top;\n",
              "    }\n",
              "\n",
              "    .dataframe thead th {\n",
              "        text-align: right;\n",
              "    }\n",
              "</style>\n",
              "<table border=\"1\" class=\"dataframe\">\n",
              "  <thead>\n",
              "    <tr style=\"text-align: right;\">\n",
              "      <th></th>\n",
              "      <th>May</th>\n",
              "      <th>Temperature</th>\n",
              "      <th>Stations</th>\n",
              "    </tr>\n",
              "  </thead>\n",
              "  <tbody>\n",
              "    <tr>\n",
              "      <th>Day1</th>\n",
              "      <td>May1</td>\n",
              "      <td>32</td>\n",
              "      <td>Charni Rd</td>\n",
              "    </tr>\n",
              "    <tr>\n",
              "      <th>Day2</th>\n",
              "      <td>May2</td>\n",
              "      <td>35</td>\n",
              "      <td>Grant Rd</td>\n",
              "    </tr>\n",
              "    <tr>\n",
              "      <th>Day3</th>\n",
              "      <td>May3</td>\n",
              "      <td>40</td>\n",
              "      <td>Marine Lines</td>\n",
              "    </tr>\n",
              "    <tr>\n",
              "      <th>Day4</th>\n",
              "      <td>May4</td>\n",
              "      <td>50</td>\n",
              "      <td>Churchgate</td>\n",
              "    </tr>\n",
              "  </tbody>\n",
              "</table>\n",
              "</div>"
            ],
            "text/plain": [
              "       May  Temperature      Stations\n",
              "Day1  May1           32     Charni Rd\n",
              "Day2  May2           35      Grant Rd\n",
              "Day3  May3           40  Marine Lines\n",
              "Day4  May4           50    Churchgate"
            ]
          },
          "metadata": {
            "tags": []
          },
          "execution_count": 25
        }
      ]
    },
    {
      "cell_type": "code",
      "metadata": {
        "id": "qGC6F_PD1Du8",
        "colab_type": "code",
        "colab": {
          "base_uri": "https://localhost:8080/",
          "height": 190
        },
        "outputId": "0d261943-c559-4b68-f0de-138811846dd5"
      },
      "source": [
        "print('Use existing Column to create new column')\n",
        "\n",
        "df['Wind Speed'] = df['Temperature']*0.414\n",
        "df"
      ],
      "execution_count": null,
      "outputs": [
        {
          "output_type": "stream",
          "text": [
            "Use existing Column to create new column\n"
          ],
          "name": "stdout"
        },
        {
          "output_type": "execute_result",
          "data": {
            "text/html": [
              "<div>\n",
              "<style scoped>\n",
              "    .dataframe tbody tr th:only-of-type {\n",
              "        vertical-align: middle;\n",
              "    }\n",
              "\n",
              "    .dataframe tbody tr th {\n",
              "        vertical-align: top;\n",
              "    }\n",
              "\n",
              "    .dataframe thead th {\n",
              "        text-align: right;\n",
              "    }\n",
              "</style>\n",
              "<table border=\"1\" class=\"dataframe\">\n",
              "  <thead>\n",
              "    <tr style=\"text-align: right;\">\n",
              "      <th></th>\n",
              "      <th>May</th>\n",
              "      <th>Temperature</th>\n",
              "      <th>Stations</th>\n",
              "      <th>Wind Speed</th>\n",
              "    </tr>\n",
              "  </thead>\n",
              "  <tbody>\n",
              "    <tr>\n",
              "      <th>Day1</th>\n",
              "      <td>May1</td>\n",
              "      <td>32</td>\n",
              "      <td>Charni Rd</td>\n",
              "      <td>13.248</td>\n",
              "    </tr>\n",
              "    <tr>\n",
              "      <th>Day2</th>\n",
              "      <td>May2</td>\n",
              "      <td>35</td>\n",
              "      <td>Grant Rd</td>\n",
              "      <td>14.490</td>\n",
              "    </tr>\n",
              "    <tr>\n",
              "      <th>Day3</th>\n",
              "      <td>May3</td>\n",
              "      <td>40</td>\n",
              "      <td>Marine Lines</td>\n",
              "      <td>16.560</td>\n",
              "    </tr>\n",
              "    <tr>\n",
              "      <th>Day4</th>\n",
              "      <td>May4</td>\n",
              "      <td>50</td>\n",
              "      <td>Churchgate</td>\n",
              "      <td>20.700</td>\n",
              "    </tr>\n",
              "  </tbody>\n",
              "</table>\n",
              "</div>"
            ],
            "text/plain": [
              "       May  Temperature      Stations  Wind Speed\n",
              "Day1  May1           32     Charni Rd      13.248\n",
              "Day2  May2           35      Grant Rd      14.490\n",
              "Day3  May3           40  Marine Lines      16.560\n",
              "Day4  May4           50    Churchgate      20.700"
            ]
          },
          "metadata": {
            "tags": []
          },
          "execution_count": 26
        }
      ]
    },
    {
      "cell_type": "code",
      "metadata": {
        "id": "0x9ME-OB1JfX",
        "colab_type": "code",
        "colab": {
          "base_uri": "https://localhost:8080/",
          "height": 190
        },
        "outputId": "ff3aabd2-de3a-4a7f-9349-cb7a327f63fa"
      },
      "source": [
        "print('Addition of two column, having same dtype')\n",
        "\n",
        "df['Add_Temp_Wind'] = df['Temperature'] + df['Wind Speed']\n",
        "df"
      ],
      "execution_count": null,
      "outputs": [
        {
          "output_type": "stream",
          "text": [
            "Addition of two column, having same dtype\n"
          ],
          "name": "stdout"
        },
        {
          "output_type": "execute_result",
          "data": {
            "text/html": [
              "<div>\n",
              "<style scoped>\n",
              "    .dataframe tbody tr th:only-of-type {\n",
              "        vertical-align: middle;\n",
              "    }\n",
              "\n",
              "    .dataframe tbody tr th {\n",
              "        vertical-align: top;\n",
              "    }\n",
              "\n",
              "    .dataframe thead th {\n",
              "        text-align: right;\n",
              "    }\n",
              "</style>\n",
              "<table border=\"1\" class=\"dataframe\">\n",
              "  <thead>\n",
              "    <tr style=\"text-align: right;\">\n",
              "      <th></th>\n",
              "      <th>May</th>\n",
              "      <th>Temperature</th>\n",
              "      <th>Stations</th>\n",
              "      <th>Wind Speed</th>\n",
              "      <th>Add_Temp_Wind</th>\n",
              "    </tr>\n",
              "  </thead>\n",
              "  <tbody>\n",
              "    <tr>\n",
              "      <th>Day1</th>\n",
              "      <td>May1</td>\n",
              "      <td>32</td>\n",
              "      <td>Charni Rd</td>\n",
              "      <td>13.248</td>\n",
              "      <td>45.248</td>\n",
              "    </tr>\n",
              "    <tr>\n",
              "      <th>Day2</th>\n",
              "      <td>May2</td>\n",
              "      <td>35</td>\n",
              "      <td>Grant Rd</td>\n",
              "      <td>14.490</td>\n",
              "      <td>49.490</td>\n",
              "    </tr>\n",
              "    <tr>\n",
              "      <th>Day3</th>\n",
              "      <td>May3</td>\n",
              "      <td>40</td>\n",
              "      <td>Marine Lines</td>\n",
              "      <td>16.560</td>\n",
              "      <td>56.560</td>\n",
              "    </tr>\n",
              "    <tr>\n",
              "      <th>Day4</th>\n",
              "      <td>May4</td>\n",
              "      <td>50</td>\n",
              "      <td>Churchgate</td>\n",
              "      <td>20.700</td>\n",
              "      <td>70.700</td>\n",
              "    </tr>\n",
              "  </tbody>\n",
              "</table>\n",
              "</div>"
            ],
            "text/plain": [
              "       May  Temperature      Stations  Wind Speed  Add_Temp_Wind\n",
              "Day1  May1           32     Charni Rd      13.248         45.248\n",
              "Day2  May2           35      Grant Rd      14.490         49.490\n",
              "Day3  May3           40  Marine Lines      16.560         56.560\n",
              "Day4  May4           50    Churchgate      20.700         70.700"
            ]
          },
          "metadata": {
            "tags": []
          },
          "execution_count": 27
        }
      ]
    },
    {
      "cell_type": "code",
      "metadata": {
        "id": "iHSMYFCB1NU1",
        "colab_type": "code",
        "colab": {
          "base_uri": "https://localhost:8080/",
          "height": 190
        },
        "outputId": "d9f5d4a4-f9d0-47f5-d5cd-9f12df564077"
      },
      "source": [
        "print('Deleting columns from dataframe')\n",
        "del df['Add_Temp_Wind']\n",
        "df"
      ],
      "execution_count": null,
      "outputs": [
        {
          "output_type": "stream",
          "text": [
            "Deleting columns from dataframe\n"
          ],
          "name": "stdout"
        },
        {
          "output_type": "execute_result",
          "data": {
            "text/html": [
              "<div>\n",
              "<style scoped>\n",
              "    .dataframe tbody tr th:only-of-type {\n",
              "        vertical-align: middle;\n",
              "    }\n",
              "\n",
              "    .dataframe tbody tr th {\n",
              "        vertical-align: top;\n",
              "    }\n",
              "\n",
              "    .dataframe thead th {\n",
              "        text-align: right;\n",
              "    }\n",
              "</style>\n",
              "<table border=\"1\" class=\"dataframe\">\n",
              "  <thead>\n",
              "    <tr style=\"text-align: right;\">\n",
              "      <th></th>\n",
              "      <th>May</th>\n",
              "      <th>Temperature</th>\n",
              "      <th>Stations</th>\n",
              "      <th>Wind Speed</th>\n",
              "    </tr>\n",
              "  </thead>\n",
              "  <tbody>\n",
              "    <tr>\n",
              "      <th>Day1</th>\n",
              "      <td>May1</td>\n",
              "      <td>32</td>\n",
              "      <td>Charni Rd</td>\n",
              "      <td>13.248</td>\n",
              "    </tr>\n",
              "    <tr>\n",
              "      <th>Day2</th>\n",
              "      <td>May2</td>\n",
              "      <td>35</td>\n",
              "      <td>Grant Rd</td>\n",
              "      <td>14.490</td>\n",
              "    </tr>\n",
              "    <tr>\n",
              "      <th>Day3</th>\n",
              "      <td>May3</td>\n",
              "      <td>40</td>\n",
              "      <td>Marine Lines</td>\n",
              "      <td>16.560</td>\n",
              "    </tr>\n",
              "    <tr>\n",
              "      <th>Day4</th>\n",
              "      <td>May4</td>\n",
              "      <td>50</td>\n",
              "      <td>Churchgate</td>\n",
              "      <td>20.700</td>\n",
              "    </tr>\n",
              "  </tbody>\n",
              "</table>\n",
              "</div>"
            ],
            "text/plain": [
              "       May  Temperature      Stations  Wind Speed\n",
              "Day1  May1           32     Charni Rd      13.248\n",
              "Day2  May2           35      Grant Rd      14.490\n",
              "Day3  May3           40  Marine Lines      16.560\n",
              "Day4  May4           50    Churchgate      20.700"
            ]
          },
          "metadata": {
            "tags": []
          },
          "execution_count": 28
        }
      ]
    },
    {
      "cell_type": "code",
      "metadata": {
        "id": "POYwgJLh1UEM",
        "colab_type": "code",
        "colab": {
          "base_uri": "https://localhost:8080/",
          "height": 258
        },
        "outputId": "1a6ea157-5a0f-4f3d-ecee-396441435ef6"
      },
      "source": [
        "df['Add_Temp_Wind'] = df['Temperature'] + df['Wind Speed']\n",
        "print(df)\n",
        "df.pop('Add_Temp_Wind')\n",
        "df"
      ],
      "execution_count": null,
      "outputs": [
        {
          "output_type": "stream",
          "text": [
            "       May  Temperature      Stations  Wind Speed  Add_Temp_Wind\n",
            "Day1  May1           32     Charni Rd      13.248         45.248\n",
            "Day2  May2           35      Grant Rd      14.490         49.490\n",
            "Day3  May3           40  Marine Lines      16.560         56.560\n",
            "Day4  May4           50    Churchgate      20.700         70.700\n"
          ],
          "name": "stdout"
        },
        {
          "output_type": "execute_result",
          "data": {
            "text/html": [
              "<div>\n",
              "<style scoped>\n",
              "    .dataframe tbody tr th:only-of-type {\n",
              "        vertical-align: middle;\n",
              "    }\n",
              "\n",
              "    .dataframe tbody tr th {\n",
              "        vertical-align: top;\n",
              "    }\n",
              "\n",
              "    .dataframe thead th {\n",
              "        text-align: right;\n",
              "    }\n",
              "</style>\n",
              "<table border=\"1\" class=\"dataframe\">\n",
              "  <thead>\n",
              "    <tr style=\"text-align: right;\">\n",
              "      <th></th>\n",
              "      <th>May</th>\n",
              "      <th>Temperature</th>\n",
              "      <th>Stations</th>\n",
              "      <th>Wind Speed</th>\n",
              "    </tr>\n",
              "  </thead>\n",
              "  <tbody>\n",
              "    <tr>\n",
              "      <th>Day1</th>\n",
              "      <td>May1</td>\n",
              "      <td>32</td>\n",
              "      <td>Charni Rd</td>\n",
              "      <td>13.248</td>\n",
              "    </tr>\n",
              "    <tr>\n",
              "      <th>Day2</th>\n",
              "      <td>May2</td>\n",
              "      <td>35</td>\n",
              "      <td>Grant Rd</td>\n",
              "      <td>14.490</td>\n",
              "    </tr>\n",
              "    <tr>\n",
              "      <th>Day3</th>\n",
              "      <td>May3</td>\n",
              "      <td>40</td>\n",
              "      <td>Marine Lines</td>\n",
              "      <td>16.560</td>\n",
              "    </tr>\n",
              "    <tr>\n",
              "      <th>Day4</th>\n",
              "      <td>May4</td>\n",
              "      <td>50</td>\n",
              "      <td>Churchgate</td>\n",
              "      <td>20.700</td>\n",
              "    </tr>\n",
              "  </tbody>\n",
              "</table>\n",
              "</div>"
            ],
            "text/plain": [
              "       May  Temperature      Stations  Wind Speed\n",
              "Day1  May1           32     Charni Rd      13.248\n",
              "Day2  May2           35      Grant Rd      14.490\n",
              "Day3  May3           40  Marine Lines      16.560\n",
              "Day4  May4           50    Churchgate      20.700"
            ]
          },
          "metadata": {
            "tags": []
          },
          "execution_count": 30
        }
      ]
    },
    {
      "cell_type": "code",
      "metadata": {
        "id": "68XjL83C1eIv",
        "colab_type": "code",
        "colab": {
          "base_uri": "https://localhost:8080/",
          "height": 173
        },
        "outputId": "334a7093-31f1-4075-9f3d-b9715cf87d79"
      },
      "source": [
        "df['Add_Temp_Wind'] = df['Temperature'] + df['Wind Speed']\n",
        "df.drop('Add_Temp_Wind',axis=1,inplace=True)\n",
        "df"
      ],
      "execution_count": null,
      "outputs": [
        {
          "output_type": "execute_result",
          "data": {
            "text/html": [
              "<div>\n",
              "<style scoped>\n",
              "    .dataframe tbody tr th:only-of-type {\n",
              "        vertical-align: middle;\n",
              "    }\n",
              "\n",
              "    .dataframe tbody tr th {\n",
              "        vertical-align: top;\n",
              "    }\n",
              "\n",
              "    .dataframe thead th {\n",
              "        text-align: right;\n",
              "    }\n",
              "</style>\n",
              "<table border=\"1\" class=\"dataframe\">\n",
              "  <thead>\n",
              "    <tr style=\"text-align: right;\">\n",
              "      <th></th>\n",
              "      <th>May</th>\n",
              "      <th>Temperature</th>\n",
              "      <th>Stations</th>\n",
              "      <th>Wind Speed</th>\n",
              "    </tr>\n",
              "  </thead>\n",
              "  <tbody>\n",
              "    <tr>\n",
              "      <th>Day1</th>\n",
              "      <td>May1</td>\n",
              "      <td>32</td>\n",
              "      <td>Charni Rd</td>\n",
              "      <td>13.248</td>\n",
              "    </tr>\n",
              "    <tr>\n",
              "      <th>Day2</th>\n",
              "      <td>May2</td>\n",
              "      <td>35</td>\n",
              "      <td>Grant Rd</td>\n",
              "      <td>14.490</td>\n",
              "    </tr>\n",
              "    <tr>\n",
              "      <th>Day3</th>\n",
              "      <td>May3</td>\n",
              "      <td>40</td>\n",
              "      <td>Marine Lines</td>\n",
              "      <td>16.560</td>\n",
              "    </tr>\n",
              "    <tr>\n",
              "      <th>Day4</th>\n",
              "      <td>May4</td>\n",
              "      <td>50</td>\n",
              "      <td>Churchgate</td>\n",
              "      <td>20.700</td>\n",
              "    </tr>\n",
              "  </tbody>\n",
              "</table>\n",
              "</div>"
            ],
            "text/plain": [
              "       May  Temperature      Stations  Wind Speed\n",
              "Day1  May1           32     Charni Rd      13.248\n",
              "Day2  May2           35      Grant Rd      14.490\n",
              "Day3  May3           40  Marine Lines      16.560\n",
              "Day4  May4           50    Churchgate      20.700"
            ]
          },
          "metadata": {
            "tags": []
          },
          "execution_count": 31
        }
      ]
    },
    {
      "cell_type": "code",
      "metadata": {
        "id": "703ANZFr1s54",
        "colab_type": "code",
        "colab": {
          "base_uri": "https://localhost:8080/",
          "height": 142
        },
        "outputId": "c06e2375-5f33-464c-956b-1960eaaa2a0f"
      },
      "source": [
        "#Drop row of a dataframe\n",
        "#use drop function and pass the indexed index or name of that index\n",
        "df.drop(df.index[0])"
      ],
      "execution_count": null,
      "outputs": [
        {
          "output_type": "execute_result",
          "data": {
            "text/html": [
              "<div>\n",
              "<style scoped>\n",
              "    .dataframe tbody tr th:only-of-type {\n",
              "        vertical-align: middle;\n",
              "    }\n",
              "\n",
              "    .dataframe tbody tr th {\n",
              "        vertical-align: top;\n",
              "    }\n",
              "\n",
              "    .dataframe thead th {\n",
              "        text-align: right;\n",
              "    }\n",
              "</style>\n",
              "<table border=\"1\" class=\"dataframe\">\n",
              "  <thead>\n",
              "    <tr style=\"text-align: right;\">\n",
              "      <th></th>\n",
              "      <th>May</th>\n",
              "      <th>Temperature</th>\n",
              "      <th>Stations</th>\n",
              "      <th>Wind Speed</th>\n",
              "    </tr>\n",
              "  </thead>\n",
              "  <tbody>\n",
              "    <tr>\n",
              "      <th>Day2</th>\n",
              "      <td>May2</td>\n",
              "      <td>35</td>\n",
              "      <td>Grant Rd</td>\n",
              "      <td>14.49</td>\n",
              "    </tr>\n",
              "    <tr>\n",
              "      <th>Day3</th>\n",
              "      <td>May3</td>\n",
              "      <td>40</td>\n",
              "      <td>Marine Lines</td>\n",
              "      <td>16.56</td>\n",
              "    </tr>\n",
              "    <tr>\n",
              "      <th>Day4</th>\n",
              "      <td>May4</td>\n",
              "      <td>50</td>\n",
              "      <td>Churchgate</td>\n",
              "      <td>20.70</td>\n",
              "    </tr>\n",
              "  </tbody>\n",
              "</table>\n",
              "</div>"
            ],
            "text/plain": [
              "       May  Temperature      Stations  Wind Speed\n",
              "Day2  May2           35      Grant Rd       14.49\n",
              "Day3  May3           40  Marine Lines       16.56\n",
              "Day4  May4           50    Churchgate       20.70"
            ]
          },
          "metadata": {
            "tags": []
          },
          "execution_count": 32
        }
      ]
    },
    {
      "cell_type": "code",
      "metadata": {
        "id": "u41FLl901xDa",
        "colab_type": "code",
        "colab": {
          "base_uri": "https://localhost:8080/",
          "height": 80
        },
        "outputId": "bedbb09a-2a4d-44b6-bfc7-55b675fa8457"
      },
      "source": [
        "df.drop(df.index[[0,1,2]])"
      ],
      "execution_count": null,
      "outputs": [
        {
          "output_type": "execute_result",
          "data": {
            "text/html": [
              "<div>\n",
              "<style scoped>\n",
              "    .dataframe tbody tr th:only-of-type {\n",
              "        vertical-align: middle;\n",
              "    }\n",
              "\n",
              "    .dataframe tbody tr th {\n",
              "        vertical-align: top;\n",
              "    }\n",
              "\n",
              "    .dataframe thead th {\n",
              "        text-align: right;\n",
              "    }\n",
              "</style>\n",
              "<table border=\"1\" class=\"dataframe\">\n",
              "  <thead>\n",
              "    <tr style=\"text-align: right;\">\n",
              "      <th></th>\n",
              "      <th>May</th>\n",
              "      <th>Temperature</th>\n",
              "      <th>Stations</th>\n",
              "      <th>Wind Speed</th>\n",
              "    </tr>\n",
              "  </thead>\n",
              "  <tbody>\n",
              "    <tr>\n",
              "      <th>Day4</th>\n",
              "      <td>May4</td>\n",
              "      <td>50</td>\n",
              "      <td>Churchgate</td>\n",
              "      <td>20.7</td>\n",
              "    </tr>\n",
              "  </tbody>\n",
              "</table>\n",
              "</div>"
            ],
            "text/plain": [
              "       May  Temperature    Stations  Wind Speed\n",
              "Day4  May4           50  Churchgate        20.7"
            ]
          },
          "metadata": {
            "tags": []
          },
          "execution_count": 34
        }
      ]
    },
    {
      "cell_type": "code",
      "metadata": {
        "id": "SN5GXUmY1-_0",
        "colab_type": "code",
        "colab": {
          "base_uri": "https://localhost:8080/",
          "height": 142
        },
        "outputId": "cbb702bb-e156-49f7-e5be-ee86170b75d5"
      },
      "source": [
        "df.drop('Day1',axis=0)"
      ],
      "execution_count": null,
      "outputs": [
        {
          "output_type": "execute_result",
          "data": {
            "text/html": [
              "<div>\n",
              "<style scoped>\n",
              "    .dataframe tbody tr th:only-of-type {\n",
              "        vertical-align: middle;\n",
              "    }\n",
              "\n",
              "    .dataframe tbody tr th {\n",
              "        vertical-align: top;\n",
              "    }\n",
              "\n",
              "    .dataframe thead th {\n",
              "        text-align: right;\n",
              "    }\n",
              "</style>\n",
              "<table border=\"1\" class=\"dataframe\">\n",
              "  <thead>\n",
              "    <tr style=\"text-align: right;\">\n",
              "      <th></th>\n",
              "      <th>May</th>\n",
              "      <th>Temperature</th>\n",
              "      <th>Stations</th>\n",
              "      <th>Wind Speed</th>\n",
              "    </tr>\n",
              "  </thead>\n",
              "  <tbody>\n",
              "    <tr>\n",
              "      <th>Day2</th>\n",
              "      <td>May2</td>\n",
              "      <td>35</td>\n",
              "      <td>Grant Rd</td>\n",
              "      <td>14.49</td>\n",
              "    </tr>\n",
              "    <tr>\n",
              "      <th>Day3</th>\n",
              "      <td>May3</td>\n",
              "      <td>40</td>\n",
              "      <td>Marine Lines</td>\n",
              "      <td>16.56</td>\n",
              "    </tr>\n",
              "    <tr>\n",
              "      <th>Day4</th>\n",
              "      <td>May4</td>\n",
              "      <td>50</td>\n",
              "      <td>Churchgate</td>\n",
              "      <td>20.70</td>\n",
              "    </tr>\n",
              "  </tbody>\n",
              "</table>\n",
              "</div>"
            ],
            "text/plain": [
              "       May  Temperature      Stations  Wind Speed\n",
              "Day2  May2           35      Grant Rd       14.49\n",
              "Day3  May3           40  Marine Lines       16.56\n",
              "Day4  May4           50    Churchgate       20.70"
            ]
          },
          "metadata": {
            "tags": []
          },
          "execution_count": 36
        }
      ]
    },
    {
      "cell_type": "code",
      "metadata": {
        "id": "ONueiQLa2I5r",
        "colab_type": "code",
        "colab": {
          "base_uri": "https://localhost:8080/",
          "height": 173
        },
        "outputId": "be05a56b-b432-4063-f947-dbdf74d7741a"
      },
      "source": [
        "df"
      ],
      "execution_count": null,
      "outputs": [
        {
          "output_type": "execute_result",
          "data": {
            "text/html": [
              "<div>\n",
              "<style scoped>\n",
              "    .dataframe tbody tr th:only-of-type {\n",
              "        vertical-align: middle;\n",
              "    }\n",
              "\n",
              "    .dataframe tbody tr th {\n",
              "        vertical-align: top;\n",
              "    }\n",
              "\n",
              "    .dataframe thead th {\n",
              "        text-align: right;\n",
              "    }\n",
              "</style>\n",
              "<table border=\"1\" class=\"dataframe\">\n",
              "  <thead>\n",
              "    <tr style=\"text-align: right;\">\n",
              "      <th></th>\n",
              "      <th>May</th>\n",
              "      <th>Temperature</th>\n",
              "      <th>Stations</th>\n",
              "      <th>Wind Speed</th>\n",
              "    </tr>\n",
              "  </thead>\n",
              "  <tbody>\n",
              "    <tr>\n",
              "      <th>Day1</th>\n",
              "      <td>May1</td>\n",
              "      <td>32</td>\n",
              "      <td>Charni Rd</td>\n",
              "      <td>13.248</td>\n",
              "    </tr>\n",
              "    <tr>\n",
              "      <th>Day2</th>\n",
              "      <td>May2</td>\n",
              "      <td>35</td>\n",
              "      <td>Grant Rd</td>\n",
              "      <td>14.490</td>\n",
              "    </tr>\n",
              "    <tr>\n",
              "      <th>Day3</th>\n",
              "      <td>May3</td>\n",
              "      <td>40</td>\n",
              "      <td>Marine Lines</td>\n",
              "      <td>16.560</td>\n",
              "    </tr>\n",
              "    <tr>\n",
              "      <th>Day4</th>\n",
              "      <td>May4</td>\n",
              "      <td>50</td>\n",
              "      <td>Churchgate</td>\n",
              "      <td>20.700</td>\n",
              "    </tr>\n",
              "  </tbody>\n",
              "</table>\n",
              "</div>"
            ],
            "text/plain": [
              "       May  Temperature      Stations  Wind Speed\n",
              "Day1  May1           32     Charni Rd      13.248\n",
              "Day2  May2           35      Grant Rd      14.490\n",
              "Day3  May3           40  Marine Lines      16.560\n",
              "Day4  May4           50    Churchgate      20.700"
            ]
          },
          "metadata": {
            "tags": []
          },
          "execution_count": 37
        }
      ]
    },
    {
      "cell_type": "markdown",
      "metadata": {
        "id": "xxORMdHr2doZ",
        "colab_type": "text"
      },
      "source": [
        "# Use of loc and iloc"
      ]
    },
    {
      "cell_type": "code",
      "metadata": {
        "id": "Z82COnNG2NG0",
        "colab_type": "code",
        "colab": {
          "base_uri": "https://localhost:8080/",
          "height": 34
        },
        "outputId": "d5bb99a8-1c3a-476f-de71-572db24612af"
      },
      "source": [
        "print(type(df.iloc[1]))"
      ],
      "execution_count": null,
      "outputs": [
        {
          "output_type": "stream",
          "text": [
            "<class 'pandas.core.series.Series'>\n"
          ],
          "name": "stdout"
        }
      ]
    },
    {
      "cell_type": "code",
      "metadata": {
        "id": "F767w3R-2jB4",
        "colab_type": "code",
        "colab": {
          "base_uri": "https://localhost:8080/",
          "height": 340
        },
        "outputId": "d272a128-6854-4b5c-ea8b-e36fea346038"
      },
      "source": [
        "print('range of index wise selection in discrete manner\\n')\n",
        "print(df.iloc[[1,2,3]])\n",
        "\n",
        "print('\\nPartial selection column wise and row wise')\n",
        "print(df.iloc[0:3,0:3])\n",
        "\n",
        "print('\\nComplete row wise and partial column wise')\n",
        "print(df.iloc[:,0:3])\n"
      ],
      "execution_count": null,
      "outputs": [
        {
          "output_type": "stream",
          "text": [
            "range of index wise selection in discrete manner\n",
            "\n",
            "       May  Temperature      Stations  Wind Speed\n",
            "Day2  May2           35      Grant Rd       14.49\n",
            "Day3  May3           40  Marine Lines       16.56\n",
            "Day4  May4           50    Churchgate       20.70\n",
            "\n",
            "Partial selection column wise and row wise\n",
            "       May  Temperature      Stations\n",
            "Day1  May1           32     Charni Rd\n",
            "Day2  May2           35      Grant Rd\n",
            "Day3  May3           40  Marine Lines\n",
            "\n",
            "Complete row wise and partial column wise\n",
            "       May  Temperature      Stations\n",
            "Day1  May1           32     Charni Rd\n",
            "Day2  May2           35      Grant Rd\n",
            "Day3  May3           40  Marine Lines\n",
            "Day4  May4           50    Churchgate\n"
          ],
          "name": "stdout"
        }
      ]
    },
    {
      "cell_type": "code",
      "metadata": {
        "id": "Hg_HEKJR3AGt",
        "colab_type": "code",
        "colab": {
          "base_uri": "https://localhost:8080/",
          "height": 173
        },
        "outputId": "6c7112c5-baad-49e6-955e-901e6f61fb9f"
      },
      "source": [
        "df"
      ],
      "execution_count": null,
      "outputs": [
        {
          "output_type": "execute_result",
          "data": {
            "text/html": [
              "<div>\n",
              "<style scoped>\n",
              "    .dataframe tbody tr th:only-of-type {\n",
              "        vertical-align: middle;\n",
              "    }\n",
              "\n",
              "    .dataframe tbody tr th {\n",
              "        vertical-align: top;\n",
              "    }\n",
              "\n",
              "    .dataframe thead th {\n",
              "        text-align: right;\n",
              "    }\n",
              "</style>\n",
              "<table border=\"1\" class=\"dataframe\">\n",
              "  <thead>\n",
              "    <tr style=\"text-align: right;\">\n",
              "      <th></th>\n",
              "      <th>May</th>\n",
              "      <th>Temperature</th>\n",
              "      <th>Stations</th>\n",
              "      <th>Wind Speed</th>\n",
              "    </tr>\n",
              "  </thead>\n",
              "  <tbody>\n",
              "    <tr>\n",
              "      <th>Day1</th>\n",
              "      <td>May1</td>\n",
              "      <td>32</td>\n",
              "      <td>Charni Rd</td>\n",
              "      <td>13.248</td>\n",
              "    </tr>\n",
              "    <tr>\n",
              "      <th>Day2</th>\n",
              "      <td>May2</td>\n",
              "      <td>35</td>\n",
              "      <td>Grant Rd</td>\n",
              "      <td>14.490</td>\n",
              "    </tr>\n",
              "    <tr>\n",
              "      <th>Day3</th>\n",
              "      <td>May3</td>\n",
              "      <td>40</td>\n",
              "      <td>Marine Lines</td>\n",
              "      <td>16.560</td>\n",
              "    </tr>\n",
              "    <tr>\n",
              "      <th>Day4</th>\n",
              "      <td>May4</td>\n",
              "      <td>50</td>\n",
              "      <td>Churchgate</td>\n",
              "      <td>20.700</td>\n",
              "    </tr>\n",
              "  </tbody>\n",
              "</table>\n",
              "</div>"
            ],
            "text/plain": [
              "       May  Temperature      Stations  Wind Speed\n",
              "Day1  May1           32     Charni Rd      13.248\n",
              "Day2  May2           35      Grant Rd      14.490\n",
              "Day3  May3           40  Marine Lines      16.560\n",
              "Day4  May4           50    Churchgate      20.700"
            ]
          },
          "metadata": {
            "tags": []
          },
          "execution_count": 40
        }
      ]
    },
    {
      "cell_type": "code",
      "metadata": {
        "id": "qOLHmEHq2rUX",
        "colab_type": "code",
        "colab": {
          "base_uri": "https://localhost:8080/",
          "height": 255
        },
        "outputId": "a7be6215-f946-4013-cacb-9b42305a1cf6"
      },
      "source": [
        "print('\\nPartial row wise and partial column wise')\n",
        "print(df.iloc[[1,0,2],:])\n",
        "print('='*40)\n",
        "\n",
        "print('\\nGet single value')\n",
        "print(df.iloc[0,0])\n",
        "print('='*40)\n",
        "\n",
        "print('\\nChanging that value')\n",
        "df.iloc[0,0] = 'May11'\n",
        "print(df.iloc[0,0])"
      ],
      "execution_count": null,
      "outputs": [
        {
          "output_type": "stream",
          "text": [
            "\n",
            "Partial row wise and partial column wise\n",
            "       May  Temperature      Stations  Wind Speed\n",
            "Day2  May2           35      Grant Rd      14.490\n",
            "Day1  May1           32     Charni Rd      13.248\n",
            "Day3  May3           40  Marine Lines      16.560\n",
            "========================================\n",
            "\n",
            "Get single value\n",
            "May1\n",
            "========================================\n",
            "\n",
            "Changing that value\n",
            "May11\n"
          ],
          "name": "stdout"
        }
      ]
    },
    {
      "cell_type": "code",
      "metadata": {
        "id": "LwDr1R1x3Djg",
        "colab_type": "code",
        "colab": {
          "base_uri": "https://localhost:8080/",
          "height": 221
        },
        "outputId": "dba78c68-d1d8-4986-f3c0-49a43c662519"
      },
      "source": [
        "print(df)\n",
        "print('\\nChanging entire row')\n",
        "df.iloc[0] = ['May1',35,'Charni Road',15.63]\n",
        "print(df)"
      ],
      "execution_count": null,
      "outputs": [
        {
          "output_type": "stream",
          "text": [
            "        May  Temperature      Stations  Wind Speed\n",
            "Day1  May11           32     Charni Rd      13.248\n",
            "Day2   May2           35      Grant Rd      14.490\n",
            "Day3   May3           40  Marine Lines      16.560\n",
            "Day4   May4           50    Churchgate      20.700\n",
            "\n",
            "Changing entire row\n",
            "       May  Temperature      Stations  Wind Speed\n",
            "Day1  May1           35   Charni Road       15.63\n",
            "Day2  May2           35      Grant Rd       14.49\n",
            "Day3  May3           40  Marine Lines       16.56\n",
            "Day4  May4           50    Churchgate       20.70\n"
          ],
          "name": "stdout"
        }
      ]
    },
    {
      "cell_type": "code",
      "metadata": {
        "id": "tOYVkBDa3QKN",
        "colab_type": "code",
        "colab": {
          "base_uri": "https://localhost:8080/",
          "height": 266
        },
        "outputId": "7606293f-8331-4206-b025-c1ff61798f7c"
      },
      "source": [
        "#loc is label-based, which means that we have to specify the name of the rows and columns that we need to filter out.\n",
        "#pass columN names and not indexes\n",
        "import numpy as np\n",
        "\n",
        "data = pd.DataFrame({\n",
        "    'age' :     [ 10, 22, 13, 21, 12, 11, 17],\n",
        "    'section' : [ 'A', 'B', 'C', 'B', 'B', 'A', 'A'],\n",
        "    'city' :    [ 'Gurgaon', 'Delhi', 'Mumbai', 'Delhi', 'Mumbai', 'Delhi', 'Mumbai'],\n",
        "    'gender' :  [ 'M', 'F', 'F', 'M', 'M', 'M', 'F'],\n",
        "    'favourite_color' : [ 'red', np.NAN, 'yellow', np.NAN, 'black', 'green', 'red']\n",
        "})\n",
        "data"
      ],
      "execution_count": null,
      "outputs": [
        {
          "output_type": "execute_result",
          "data": {
            "text/html": [
              "<div>\n",
              "<style scoped>\n",
              "    .dataframe tbody tr th:only-of-type {\n",
              "        vertical-align: middle;\n",
              "    }\n",
              "\n",
              "    .dataframe tbody tr th {\n",
              "        vertical-align: top;\n",
              "    }\n",
              "\n",
              "    .dataframe thead th {\n",
              "        text-align: right;\n",
              "    }\n",
              "</style>\n",
              "<table border=\"1\" class=\"dataframe\">\n",
              "  <thead>\n",
              "    <tr style=\"text-align: right;\">\n",
              "      <th></th>\n",
              "      <th>age</th>\n",
              "      <th>section</th>\n",
              "      <th>city</th>\n",
              "      <th>gender</th>\n",
              "      <th>favourite_color</th>\n",
              "    </tr>\n",
              "  </thead>\n",
              "  <tbody>\n",
              "    <tr>\n",
              "      <th>0</th>\n",
              "      <td>10</td>\n",
              "      <td>A</td>\n",
              "      <td>Gurgaon</td>\n",
              "      <td>M</td>\n",
              "      <td>red</td>\n",
              "    </tr>\n",
              "    <tr>\n",
              "      <th>1</th>\n",
              "      <td>22</td>\n",
              "      <td>B</td>\n",
              "      <td>Delhi</td>\n",
              "      <td>F</td>\n",
              "      <td>NaN</td>\n",
              "    </tr>\n",
              "    <tr>\n",
              "      <th>2</th>\n",
              "      <td>13</td>\n",
              "      <td>C</td>\n",
              "      <td>Mumbai</td>\n",
              "      <td>F</td>\n",
              "      <td>yellow</td>\n",
              "    </tr>\n",
              "    <tr>\n",
              "      <th>3</th>\n",
              "      <td>21</td>\n",
              "      <td>B</td>\n",
              "      <td>Delhi</td>\n",
              "      <td>M</td>\n",
              "      <td>NaN</td>\n",
              "    </tr>\n",
              "    <tr>\n",
              "      <th>4</th>\n",
              "      <td>12</td>\n",
              "      <td>B</td>\n",
              "      <td>Mumbai</td>\n",
              "      <td>M</td>\n",
              "      <td>black</td>\n",
              "    </tr>\n",
              "    <tr>\n",
              "      <th>5</th>\n",
              "      <td>11</td>\n",
              "      <td>A</td>\n",
              "      <td>Delhi</td>\n",
              "      <td>M</td>\n",
              "      <td>green</td>\n",
              "    </tr>\n",
              "    <tr>\n",
              "      <th>6</th>\n",
              "      <td>17</td>\n",
              "      <td>A</td>\n",
              "      <td>Mumbai</td>\n",
              "      <td>F</td>\n",
              "      <td>red</td>\n",
              "    </tr>\n",
              "  </tbody>\n",
              "</table>\n",
              "</div>"
            ],
            "text/plain": [
              "   age section     city gender favourite_color\n",
              "0   10       A  Gurgaon      M             red\n",
              "1   22       B    Delhi      F             NaN\n",
              "2   13       C   Mumbai      F          yellow\n",
              "3   21       B    Delhi      M             NaN\n",
              "4   12       B   Mumbai      M           black\n",
              "5   11       A    Delhi      M           green\n",
              "6   17       A   Mumbai      F             red"
            ]
          },
          "metadata": {
            "tags": []
          },
          "execution_count": 43
        }
      ]
    },
    {
      "cell_type": "code",
      "metadata": {
        "id": "KiwBPNGn3w0s",
        "colab_type": "code",
        "colab": {
          "base_uri": "https://localhost:8080/",
          "height": 238
        },
        "outputId": "94671312-9e71-4418-a57d-54cb16aed219"
      },
      "source": [
        "#Partial column\n",
        "print(data.loc[:,['age','section']])\n",
        "#Partial row\n",
        "print(data.loc[0:3,:])"
      ],
      "execution_count": null,
      "outputs": [
        {
          "output_type": "stream",
          "text": [
            "   age section\n",
            "0   10       A\n",
            "1   22       B\n",
            "2   13       C\n",
            "3   21       B\n",
            "4   12       B\n",
            "5   11       A\n",
            "6   17       A\n",
            "   age section     city gender favourite_color\n",
            "0   10       A  Gurgaon      M             red\n",
            "1   22       B    Delhi      F             NaN\n",
            "2   13       C   Mumbai      F          yellow\n",
            "3   21       B    Delhi      M             NaN\n"
          ],
          "name": "stdout"
        }
      ]
    },
    {
      "cell_type": "code",
      "metadata": {
        "id": "8SjlSSGR4hfY",
        "colab_type": "code",
        "colab": {
          "base_uri": "https://localhost:8080/",
          "height": 266
        },
        "outputId": "26723310-4e26-4818-e1cd-9247332c40d8"
      },
      "source": [
        "data"
      ],
      "execution_count": null,
      "outputs": [
        {
          "output_type": "execute_result",
          "data": {
            "text/html": [
              "<div>\n",
              "<style scoped>\n",
              "    .dataframe tbody tr th:only-of-type {\n",
              "        vertical-align: middle;\n",
              "    }\n",
              "\n",
              "    .dataframe tbody tr th {\n",
              "        vertical-align: top;\n",
              "    }\n",
              "\n",
              "    .dataframe thead th {\n",
              "        text-align: right;\n",
              "    }\n",
              "</style>\n",
              "<table border=\"1\" class=\"dataframe\">\n",
              "  <thead>\n",
              "    <tr style=\"text-align: right;\">\n",
              "      <th></th>\n",
              "      <th>age</th>\n",
              "      <th>section</th>\n",
              "      <th>city</th>\n",
              "      <th>gender</th>\n",
              "      <th>favourite_color</th>\n",
              "    </tr>\n",
              "  </thead>\n",
              "  <tbody>\n",
              "    <tr>\n",
              "      <th>0</th>\n",
              "      <td>10</td>\n",
              "      <td>A</td>\n",
              "      <td>Gurgaon</td>\n",
              "      <td>M</td>\n",
              "      <td>red</td>\n",
              "    </tr>\n",
              "    <tr>\n",
              "      <th>1</th>\n",
              "      <td>22</td>\n",
              "      <td>B</td>\n",
              "      <td>Delhi</td>\n",
              "      <td>F</td>\n",
              "      <td>NaN</td>\n",
              "    </tr>\n",
              "    <tr>\n",
              "      <th>2</th>\n",
              "      <td>13</td>\n",
              "      <td>C</td>\n",
              "      <td>Mumbai</td>\n",
              "      <td>F</td>\n",
              "      <td>yellow</td>\n",
              "    </tr>\n",
              "    <tr>\n",
              "      <th>3</th>\n",
              "      <td>21</td>\n",
              "      <td>B</td>\n",
              "      <td>Delhi</td>\n",
              "      <td>M</td>\n",
              "      <td>NaN</td>\n",
              "    </tr>\n",
              "    <tr>\n",
              "      <th>4</th>\n",
              "      <td>12</td>\n",
              "      <td>B</td>\n",
              "      <td>Mumbai</td>\n",
              "      <td>M</td>\n",
              "      <td>black</td>\n",
              "    </tr>\n",
              "    <tr>\n",
              "      <th>5</th>\n",
              "      <td>11</td>\n",
              "      <td>A</td>\n",
              "      <td>Delhi</td>\n",
              "      <td>M</td>\n",
              "      <td>green</td>\n",
              "    </tr>\n",
              "    <tr>\n",
              "      <th>6</th>\n",
              "      <td>17</td>\n",
              "      <td>A</td>\n",
              "      <td>Mumbai</td>\n",
              "      <td>F</td>\n",
              "      <td>red</td>\n",
              "    </tr>\n",
              "  </tbody>\n",
              "</table>\n",
              "</div>"
            ],
            "text/plain": [
              "   age section     city gender favourite_color\n",
              "0   10       A  Gurgaon      M             red\n",
              "1   22       B    Delhi      F             NaN\n",
              "2   13       C   Mumbai      F          yellow\n",
              "3   21       B    Delhi      M             NaN\n",
              "4   12       B   Mumbai      M           black\n",
              "5   11       A    Delhi      M           green\n",
              "6   17       A   Mumbai      F             red"
            ]
          },
          "metadata": {
            "tags": []
          },
          "execution_count": 47
        }
      ]
    },
    {
      "cell_type": "code",
      "metadata": {
        "id": "tBhnHoqt3_Ga",
        "colab_type": "code",
        "colab": {
          "base_uri": "https://localhost:8080/",
          "height": 136
        },
        "outputId": "9480ceff-c068-4896-a77e-ab4db5874e09"
      },
      "source": [
        "#single\n",
        "print(data.loc[data['age'] >= 15])\n",
        "#Mutiple conditions\n",
        "print(data.loc[(data['age'] >= 12) & (data['gender'] == 'M')])"
      ],
      "execution_count": null,
      "outputs": [
        {
          "output_type": "stream",
          "text": [
            "   age section    city gender favourite_color\n",
            "1   22       B   Delhi      F             NaN\n",
            "3   21       B   Delhi      M             NaN\n",
            "6   17       A  Mumbai      F             red\n",
            "   age section    city gender favourite_color\n",
            "3   21       B   Delhi      M             NaN\n",
            "4   12       B  Mumbai      M           black\n"
          ],
          "name": "stdout"
        }
      ]
    },
    {
      "cell_type": "code",
      "metadata": {
        "id": "rxSTJFUx4aAP",
        "colab_type": "code",
        "colab": {}
      },
      "source": [
        ""
      ],
      "execution_count": null,
      "outputs": []
    }
  ]
}