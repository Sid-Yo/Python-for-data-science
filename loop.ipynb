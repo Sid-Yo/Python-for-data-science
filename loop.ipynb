{
 "cells": [
  {
   "cell_type": "code",
   "execution_count": 1,
   "metadata": {},
   "outputs": [],
   "source": [
    "a = \"hulk\""
   ]
  },
  {
   "cell_type": "code",
   "execution_count": 2,
   "metadata": {},
   "outputs": [
    {
     "data": {
      "text/plain": [
       "4"
      ]
     },
     "execution_count": 2,
     "metadata": {},
     "output_type": "execute_result"
    }
   ],
   "source": [
    "len(a)"
   ]
  },
  {
   "cell_type": "code",
   "execution_count": 4,
   "metadata": {},
   "outputs": [
    {
     "name": "stdout",
     "output_type": "stream",
     "text": [
      "hulk"
     ]
    }
   ],
   "source": [
    "for char in a:\n",
    "    print(char,end=\"\")"
   ]
  },
  {
   "cell_type": "code",
   "execution_count": 6,
   "metadata": {},
   "outputs": [
    {
     "name": "stdout",
     "output_type": "stream",
     "text": [
      "fruit availabe apple\n",
      "fruit availabe banana\n",
      "fruit availabe cheeku\n",
      "fruit availabe dragon fruit\n",
      "fruit availabe guava\n",
      "fruit availabe grape\n",
      "fruit availabe lichi\n",
      "fruit availabe kivi\n",
      "fruit availabe mango\n",
      "fruit availabe orange\n"
     ]
    }
   ],
   "source": [
    "fruits= ['apple','banana','cheeku',\n",
    "         'dragon fruit','guava','grape',\n",
    "         'lichi','kivi','mango','orange']\n",
    "for item in fruits:\n",
    "    print('fruit availabe',item)"
   ]
  },
  {
   "cell_type": "code",
   "execution_count": 7,
   "metadata": {},
   "outputs": [
    {
     "name": "stdout",
     "output_type": "stream",
     "text": [
      "0 apple\n",
      "1 banana\n",
      "2 cheeku\n",
      "3 dragon fruit\n",
      "4 guava\n",
      "5 grape\n",
      "6 lichi\n",
      "7 kivi\n",
      "8 mango\n",
      "9 orange\n"
     ]
    }
   ],
   "source": [
    "for i,item in enumerate(fruits):\n",
    "    print(i,item)"
   ]
  },
  {
   "cell_type": "code",
   "execution_count": 8,
   "metadata": {},
   "outputs": [
    {
     "name": "stdout",
     "output_type": "stream",
     "text": [
      "apple\n",
      "cheeku\n",
      "grape\n",
      "orange\n"
     ]
    }
   ],
   "source": [
    "for fruit in fruits:\n",
    "    if 'e' in fruit:\n",
    "        print(fruit)"
   ]
  },
  {
   "cell_type": "code",
   "execution_count": 9,
   "metadata": {},
   "outputs": [
    {
     "name": "stdin",
     "output_type": "stream",
     "text": [
      "letter b\n"
     ]
    },
    {
     "name": "stdout",
     "output_type": "stream",
     "text": [
      "banana\n"
     ]
    }
   ],
   "source": [
    "m= str(input('letter'))\n",
    "for fruit in fruits:\n",
    "    if m in fruit:\n",
    "        print(fruit)"
   ]
  },
  {
   "cell_type": "code",
   "execution_count": 8,
   "metadata": {},
   "outputs": [
    {
     "name": "stdout",
     "output_type": "stream",
     "text": [
      "10\n",
      "11\n",
      "12\n",
      "13\n",
      "14\n"
     ]
    }
   ],
   "source": [
    "for i in range(10,15):\n",
    "        print(i)"
   ]
  },
  {
   "cell_type": "code",
   "execution_count": 10,
   "metadata": {},
   "outputs": [
    {
     "name": "stdout",
     "output_type": "stream",
     "text": [
      "1 2 3 5 8 13 21 34 55 89 "
     ]
    }
   ],
   "source": [
    "a=0\n",
    "b=1\n",
    "for i in range(10):\n",
    "    c=a+b\n",
    "    a=b\n",
    "    b=c\n",
    "    print(c,end=\" \")"
   ]
  },
  {
   "cell_type": "code",
   "execution_count": 11,
   "metadata": {},
   "outputs": [
    {
     "name": "stdin",
     "output_type": "stream",
     "text": [
      "range 6\n"
     ]
    },
    {
     "name": "stdout",
     "output_type": "stream",
     "text": [
      "1\n",
      "2\n",
      "3\n",
      "5\n",
      "8\n",
      "13\n"
     ]
    }
   ],
   "source": [
    "a=0\n",
    "b=1\n",
    "u=int(input('range'))\n",
    "for i in range(u):\n",
    "    c=a+b\n",
    "    a=b\n",
    "    b=c\n",
    "    print(c)"
   ]
  },
  {
   "cell_type": "code",
   "execution_count": 13,
   "metadata": {},
   "outputs": [
    {
     "name": "stdout",
     "output_type": "stream",
     "text": [
      "\n",
      "!\n",
      "!!\n",
      "!!!\n",
      "!!!!\n",
      "!!!!!\n",
      "!!!!!!\n",
      "!!!!!!!\n",
      "!!!!!!!!\n",
      "!!!!!!!!!\n"
     ]
    }
   ],
   "source": [
    "for i in range(10):\n",
    "    print('!'*i)"
   ]
  },
  {
   "cell_type": "code",
   "execution_count": 1,
   "metadata": {},
   "outputs": [
    {
     "name": "stdout",
     "output_type": "stream",
     "text": [
      "!!!!!!!!!!\n",
      "!!!!!!!!!\n",
      "!!!!!!!!\n",
      "!!!!!!!\n",
      "!!!!!!\n",
      "!!!!!\n",
      "!!!!\n",
      "!!!\n",
      "!!\n",
      "!\n"
     ]
    }
   ],
   "source": [
    "for i in range(10,0,-1):\n",
    "    print('!'*i)"
   ]
  },
  {
   "cell_type": "code",
   "execution_count": 1,
   "metadata": {},
   "outputs": [
    {
     "name": "stdout",
     "output_type": "stream",
     "text": [
      "\n",
      "!\n",
      "!!\n",
      "!!!\n",
      "!!!!\n",
      "!!!!!\n",
      "!!!!!!\n",
      "!!!!!!!\n",
      "!!!!!!!!\n",
      "!!!!!!!!!\n",
      "!!!!!!!!!!\n",
      "!!!!!!!!!\n",
      "!!!!!!!!\n",
      "!!!!!!!\n",
      "!!!!!!\n",
      "!!!!!\n",
      "!!!!\n",
      "!!!\n",
      "!!\n",
      "!\n"
     ]
    }
   ],
   "source": [
    "for e in range(1):\n",
    "    for i in range(10):\n",
    "        print('!'*i)\n",
    "    for i in range(10,0,-1):\n",
    "        print('!'*i)    "
   ]
  },
  {
   "cell_type": "code",
   "execution_count": 15,
   "metadata": {},
   "outputs": [
    {
     "name": "stdout",
     "output_type": "stream",
     "text": [
      "even numbers are:\n",
      "0 2 4 6 8 10 12 14 16 18 20 22 24 26 28 30 32 34 36 38 40 42 44 46 48 50 52 54 56 58 60 62 64 66 68 70 72 74 76 78 80 82 84 86 88 90 92 94 96 98 100 "
     ]
    }
   ],
   "source": [
    "print('even numbers are:')\n",
    "for u in range(0,101,2):\n",
    "    print(u,end=' ')"
   ]
  },
  {
   "cell_type": "code",
   "execution_count": 16,
   "metadata": {},
   "outputs": [
    {
     "name": "stdout",
     "output_type": "stream",
     "text": [
      "even numbers are:\n",
      "0 2 4 6 8 10 12 14 16 18 20 22 24 26 28 30 32 34 36 38 40 42 44 46 48 50 52 54 56 58 60 62 64 66 68 70 72 74 76 78 80 82 84 86 88 90 92 94 96 98 100 "
     ]
    }
   ],
   "source": [
    "print('even numbers are:')\n",
    "for u in range(101):\n",
    "    if u%2==0:\n",
    "        print(u,end=' ')"
   ]
  },
  {
   "cell_type": "code",
   "execution_count": 17,
   "metadata": {},
   "outputs": [
    {
     "name": "stdout",
     "output_type": "stream",
     "text": [
      "odd numbers are:\n",
      "1 3 5 7 9 11 13 15 17 19 21 23 25 27 29 31 33 35 37 39 41 43 45 47 49 51 53 55 57 59 61 63 65 67 69 71 73 75 77 79 81 83 85 87 89 91 93 95 97 99 "
     ]
    }
   ],
   "source": [
    "print('odd numbers are:')\n",
    "for u in range(1,101,2):\n",
    "    print(u,end=' ')"
   ]
  },
  {
   "cell_type": "code",
   "execution_count": 18,
   "metadata": {},
   "outputs": [
    {
     "name": "stdout",
     "output_type": "stream",
     "text": [
      "odd numbers are:\n",
      "1 3 5 7 9 11 13 15 17 19 21 23 25 27 29 31 33 35 37 39 41 43 45 47 49 51 53 55 57 59 61 63 65 67 69 71 73 75 77 79 81 83 85 87 89 91 93 95 97 99 "
     ]
    }
   ],
   "source": [
    "print('odd numbers are:')\n",
    "for u in range(101):\n",
    "    if u%2!=0:\n",
    "        print(u,end=' ')"
   ]
  },
  {
   "cell_type": "code",
   "execution_count": 16,
   "metadata": {},
   "outputs": [
    {
     "name": "stdout",
     "output_type": "stream",
     "text": [
      "ooooo\n",
      "oooo\n",
      "ooo\n",
      "oo\n",
      "o\n",
      "\n",
      "o\n",
      "oo\n",
      "ooo\n",
      "oooo\n",
      "ooooo\n"
     ]
    }
   ],
   "source": [
    "for i in range(-5,6,1):\n",
    "    print(abs(i)*'o')"
   ]
  },
  {
   "cell_type": "code",
   "execution_count": 17,
   "metadata": {},
   "outputs": [
    {
     "name": "stdin",
     "output_type": "stream",
     "text": [
      "no: 4379\n"
     ]
    },
    {
     "name": "stdout",
     "output_type": "stream",
     "text": [
      "9734\n"
     ]
    }
   ],
   "source": [
    "# This program gives reverse of inputted no\n",
    "v=int(input(\"no:\"))\n",
    "rev=0\n",
    "while v>0:\n",
    "    last=v%10\n",
    "    rev=rev*10+last\n",
    "    v=v//10\n",
    "print(rev)"
   ]
  },
  {
   "cell_type": "code",
   "execution_count": 19,
   "metadata": {},
   "outputs": [
    {
     "name": "stdin",
     "output_type": "stream",
     "text": [
      "no: 343\n"
     ]
    },
    {
     "name": "stdout",
     "output_type": "stream",
     "text": [
      "palindrome\n"
     ]
    }
   ],
   "source": [
    "# This program checks that inputted no is palindrome or not (i.e.reverse of inputted no. should be equal to inputted no.)\n",
    "v=int(input(\"no:\"))\n",
    "x=v\n",
    "rev=0\n",
    "while v>0:\n",
    "    rev=rev*10+v%10\n",
    "    v=v//10\n",
    "if x==rev:\n",
    "    print(\"palindrome\")\n",
    "else:\n",
    "    print(\"not a palindrome\")"
   ]
  },
  {
   "cell_type": "code",
   "execution_count": 20,
   "metadata": {},
   "outputs": [
    {
     "name": "stdin",
     "output_type": "stream",
     "text": [
      "no: 123\n"
     ]
    },
    {
     "name": "stdout",
     "output_type": "stream",
     "text": [
      "not armstrong\n"
     ]
    }
   ],
   "source": [
    "#checks if inputted no. is armstrong or not (sum of cubes of inputted no should equal to inputted no.)\n",
    "t=int(input(\"no:\"))\n",
    "y=t\n",
    "a=0\n",
    "while t>0:\n",
    "    a=a+(t%10)**3\n",
    "    t=t//10\n",
    "if y==a:\n",
    "    print(\"armstrong\")\n",
    "else:\n",
    "    print(\"not armstrong\")"
   ]
  },
  {
   "cell_type": "code",
   "execution_count": 1,
   "metadata": {},
   "outputs": [
    {
     "name": "stdin",
     "output_type": "stream",
     "text": [
      "no: 343\n"
     ]
    },
    {
     "name": "stdout",
     "output_type": "stream",
     "text": [
      "10\n"
     ]
    }
   ],
   "source": [
    "#gives sum of inputted no.\n",
    "y=int(input(\"no:\"))\n",
    "ev=0\n",
    "while y>0:\n",
    "    st=y%10\n",
    "    ev=ev+st\n",
    "    y=y//10\n",
    "print(ev)"
   ]
  },
  {
   "cell_type": "code",
   "execution_count": 2,
   "metadata": {},
   "outputs": [
    {
     "name": "stdin",
     "output_type": "stream",
     "text": [
      "number: 22762\n"
     ]
    },
    {
     "name": "stdout",
     "output_type": "stream",
     "text": [
      "26722\n"
     ]
    }
   ],
   "source": [
    "#reverse of no.\n",
    "r=int(input(\"number:\"))\n",
    "t=0\n",
    "while r!=0:\n",
    "    t=t*10+r%10\n",
    "    r=r//10\n",
    "print(t)"
   ]
  },
  {
   "cell_type": "code",
   "execution_count": null,
   "metadata": {},
   "outputs": [],
   "source": []
  }
 ],
 "metadata": {
  "kernelspec": {
   "display_name": "Python 3",
   "language": "python",
   "name": "python3"
  },
  "language_info": {
   "codemirror_mode": {
    "name": "ipython",
    "version": 3
   },
   "file_extension": ".py",
   "mimetype": "text/x-python",
   "name": "python",
   "nbconvert_exporter": "python",
   "pygments_lexer": "ipython3",
   "version": "3.7.1"
  }
 },
 "nbformat": 4,
 "nbformat_minor": 2
}
