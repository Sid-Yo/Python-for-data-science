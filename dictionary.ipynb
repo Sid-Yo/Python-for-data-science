{
 "cells": [
  {
   "cell_type": "markdown",
   "metadata": {},
   "source": [
    "# Dictionaries\n",
    "- ordered\n",
    "- unindexed\n",
    "- have \"key:value\" pair\n",
    "- keys are unique\n",
    "- keys are immutable type(string or tuple)\n",
    "- value can be anything\n",
    "- dynamic\n",
    "- dict()\n",
    "- {} empty dict\n",
    "- {'a':'apple','b':230,'c';True}"
   ]
  },
  {
   "cell_type": "code",
   "execution_count": 3,
   "metadata": {},
   "outputs": [],
   "source": [
    "marks=[50,30,24,25,45]"
   ]
  },
  {
   "cell_type": "code",
   "execution_count": 4,
   "metadata": {},
   "outputs": [],
   "source": [
    "marksd={\n",
    "    'eng':50,\n",
    "    'hindi':30,\n",
    "    'maths':24,\n",
    "    'science':25,\n",
    "    'evs':45\n",
    "}"
   ]
  },
  {
   "cell_type": "code",
   "execution_count": 5,
   "metadata": {},
   "outputs": [
    {
     "data": {
      "text/plain": [
       "5"
      ]
     },
     "execution_count": 5,
     "metadata": {},
     "output_type": "execute_result"
    }
   ],
   "source": [
    "len(marksd)"
   ]
  },
  {
   "cell_type": "code",
   "execution_count": 6,
   "metadata": {},
   "outputs": [
    {
     "name": "stdout",
     "output_type": "stream",
     "text": [
      "eng\n",
      "hindi\n",
      "maths\n",
      "science\n",
      "evs\n"
     ]
    }
   ],
   "source": [
    "for i in marksd:\n",
    "    print(i)"
   ]
  },
  {
   "cell_type": "code",
   "execution_count": 7,
   "metadata": {},
   "outputs": [
    {
     "data": {
      "text/plain": [
       "30"
      ]
     },
     "execution_count": 7,
     "metadata": {},
     "output_type": "execute_result"
    }
   ],
   "source": [
    "marksd['hindi']"
   ]
  },
  {
   "cell_type": "code",
   "execution_count": 8,
   "metadata": {},
   "outputs": [
    {
     "data": {
      "text/plain": [
       "50"
      ]
     },
     "execution_count": 8,
     "metadata": {},
     "output_type": "execute_result"
    }
   ],
   "source": [
    "key=\"eng\"\n",
    "marksd[key]"
   ]
  },
  {
   "cell_type": "code",
   "execution_count": 9,
   "metadata": {},
   "outputs": [
    {
     "name": "stdout",
     "output_type": "stream",
     "text": [
      "eng 50\n",
      "hindi 30\n",
      "maths 24\n",
      "science 25\n",
      "evs 45\n"
     ]
    }
   ],
   "source": [
    "for i in marksd:\n",
    "    print(i,marksd[i])"
   ]
  },
  {
   "cell_type": "code",
   "execution_count": 10,
   "metadata": {},
   "outputs": [
    {
     "name": "stdout",
     "output_type": "stream",
     "text": [
      "eng 50\n",
      "hindi 30\n",
      "maths 24\n",
      "science 25\n",
      "evs 45\n"
     ]
    }
   ],
   "source": [
    "for i,j in marksd.items():\n",
    "    print(i,j)"
   ]
  },
  {
   "cell_type": "code",
   "execution_count": 11,
   "metadata": {},
   "outputs": [
    {
     "name": "stdout",
     "output_type": "stream",
     "text": [
      "174\n"
     ]
    }
   ],
   "source": [
    "p=0\n",
    "for i in marksd:\n",
    "    p=p+marksd[i]\n",
    "print(p)   "
   ]
  },
  {
   "cell_type": "code",
   "execution_count": 12,
   "metadata": {},
   "outputs": [
    {
     "data": {
      "text/plain": [
       "174"
      ]
     },
     "execution_count": 12,
     "metadata": {},
     "output_type": "execute_result"
    }
   ],
   "source": [
    "sum(marksd.values())"
   ]
  },
  {
   "cell_type": "code",
   "execution_count": 13,
   "metadata": {},
   "outputs": [
    {
     "data": {
      "text/plain": [
       "dict_keys(['eng', 'hindi', 'maths', 'science', 'evs'])"
      ]
     },
     "execution_count": 13,
     "metadata": {},
     "output_type": "execute_result"
    }
   ],
   "source": [
    "marksd.keys()"
   ]
  },
  {
   "cell_type": "code",
   "execution_count": 14,
   "metadata": {},
   "outputs": [
    {
     "data": {
      "text/plain": [
       "dict_values([50, 30, 24, 25, 45])"
      ]
     },
     "execution_count": 14,
     "metadata": {},
     "output_type": "execute_result"
    }
   ],
   "source": [
    "marksd.values()"
   ]
  },
  {
   "cell_type": "code",
   "execution_count": 15,
   "metadata": {},
   "outputs": [],
   "source": [
    "marksd['supw']=90"
   ]
  },
  {
   "cell_type": "code",
   "execution_count": 16,
   "metadata": {},
   "outputs": [
    {
     "data": {
      "text/plain": [
       "{'eng': 50, 'hindi': 30, 'maths': 24, 'science': 25, 'evs': 45, 'supw': 90}"
      ]
     },
     "execution_count": 16,
     "metadata": {},
     "output_type": "execute_result"
    }
   ],
   "source": [
    "marksd"
   ]
  },
  {
   "cell_type": "code",
   "execution_count": 17,
   "metadata": {},
   "outputs": [
    {
     "data": {
      "text/plain": [
       "{'eng': 50, 'hindi': 78, 'maths': 24, 'science': 25, 'evs': 45, 'supw': 90}"
      ]
     },
     "execution_count": 17,
     "metadata": {},
     "output_type": "execute_result"
    }
   ],
   "source": [
    "marksd['hindi']=78\n",
    "marksd"
   ]
  },
  {
   "cell_type": "code",
   "execution_count": 18,
   "metadata": {},
   "outputs": [],
   "source": [
    "ex={\n",
    "    'speaking':'B',\n",
    "    'sports':'A',\n",
    "    'others':'A'\n",
    "}"
   ]
  },
  {
   "cell_type": "code",
   "execution_count": 19,
   "metadata": {},
   "outputs": [
    {
     "data": {
      "text/plain": [
       "{'eng': 50,\n",
       " 'hindi': 78,\n",
       " 'maths': 24,\n",
       " 'science': 25,\n",
       " 'evs': 45,\n",
       " 'supw': 90,\n",
       " 'speaking': 'B',\n",
       " 'sports': 'A',\n",
       " 'others': 'A'}"
      ]
     },
     "execution_count": 19,
     "metadata": {},
     "output_type": "execute_result"
    }
   ],
   "source": [
    "marksd.update(ex)\n",
    "marksd"
   ]
  },
  {
   "cell_type": "code",
   "execution_count": 20,
   "metadata": {},
   "outputs": [
    {
     "data": {
      "text/plain": [
       "'A'"
      ]
     },
     "execution_count": 20,
     "metadata": {},
     "output_type": "execute_result"
    }
   ],
   "source": [
    "marksd.pop('others')"
   ]
  },
  {
   "cell_type": "code",
   "execution_count": 21,
   "metadata": {},
   "outputs": [
    {
     "data": {
      "text/plain": [
       "('sports', 'A')"
      ]
     },
     "execution_count": 21,
     "metadata": {},
     "output_type": "execute_result"
    }
   ],
   "source": [
    "marksd.popitem()"
   ]
  },
  {
   "cell_type": "code",
   "execution_count": 22,
   "metadata": {},
   "outputs": [
    {
     "data": {
      "text/plain": [
       "('speaking', 'B')"
      ]
     },
     "execution_count": 22,
     "metadata": {},
     "output_type": "execute_result"
    }
   ],
   "source": [
    "marksd.popitem()"
   ]
  },
  {
   "cell_type": "code",
   "execution_count": 23,
   "metadata": {},
   "outputs": [
    {
     "data": {
      "text/plain": [
       "{}"
      ]
     },
     "execution_count": 23,
     "metadata": {},
     "output_type": "execute_result"
    }
   ],
   "source": [
    "marksd.clear()\n",
    "marksd"
   ]
  },
  {
   "cell_type": "code",
   "execution_count": 2,
   "metadata": {},
   "outputs": [
    {
     "name": "stdin",
     "output_type": "stream",
     "text": [
      "enter name: masao\n"
     ]
    },
    {
     "name": "stdout",
     "output_type": "stream",
     "text": [
      "no doesnt exists\n",
      "update no:masao\n"
     ]
    },
    {
     "name": "stdin",
     "output_type": "stream",
     "text": [
      "no: 367346743\n",
      "enter name: masao\n"
     ]
    },
    {
     "name": "stdout",
     "output_type": "stream",
     "text": [
      "masao 367346743\n"
     ]
    },
    {
     "name": "stdin",
     "output_type": "stream",
     "text": [
      "enter name: nene\n"
     ]
    },
    {
     "name": "stdout",
     "output_type": "stream",
     "text": [
      "nene 2526728911\n"
     ]
    },
    {
     "name": "stdin",
     "output_type": "stream",
     "text": [
      "enter name: exit\n"
     ]
    }
   ],
   "source": [
    "det={\n",
    "    'shinchan': 2526277281,\n",
    "    'nene': 2526728911,\n",
    "    'kazama':248292202\n",
    "     }\n",
    "while True:\n",
    "    j=input('enter name:')\n",
    "    if j==\"exit\":\n",
    "        break\n",
    "    if j in det:\n",
    "        print(j,det.get(j))\n",
    "    elif j:\n",
    "        print('no doesnt exists')\n",
    "        print(f'update no:{j}')\n",
    "        up=input(\"no:\")\n",
    "        if up ==\"exit\":\n",
    "            break\n",
    "        elif up.isnumeric():\n",
    "            det[j]=int(up)"
   ]
  },
  {
   "cell_type": "code",
   "execution_count": null,
   "metadata": {},
   "outputs": [],
   "source": []
  }
 ],
 "metadata": {
  "kernelspec": {
   "display_name": "Python 3",
   "language": "python",
   "name": "python3"
  },
  "language_info": {
   "codemirror_mode": {
    "name": "ipython",
    "version": 3
   },
   "file_extension": ".py",
   "mimetype": "text/x-python",
   "name": "python",
   "nbconvert_exporter": "python",
   "pygments_lexer": "ipython3",
   "version": "3.7.1"
  }
 },
 "nbformat": 4,
 "nbformat_minor": 2
}
