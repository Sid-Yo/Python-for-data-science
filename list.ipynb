{
 "cells": [
  {
   "cell_type": "markdown",
   "metadata": {},
   "source": [
    "## list\n",
    "\n",
    "- heterogenous\n",
    "\n",
    "- dynamic and mutable (can be changed after execution)\n",
    "\n",
    "- indexed\n",
    "\n",
    "- ordered\n",
    "\n",
    "- list()\n",
    "\n",
    "- represented by []"
   ]
  },
  {
   "cell_type": "code",
   "execution_count": 1,
   "metadata": {},
   "outputs": [
    {
     "data": {
      "text/plain": [
       "['apple',\n",
       " 'banana',\n",
       " 'cheeku',\n",
       " 'kivi',\n",
       " 'peach',\n",
       " 'pear',\n",
       " 'grape',\n",
       " 'mango',\n",
       " 'orange',\n",
       " 'papaya']"
      ]
     },
     "execution_count": 1,
     "metadata": {},
     "output_type": "execute_result"
    }
   ],
   "source": [
    "fal=[\"apple\",\"banana\",\"cheeku\",\"kivi\",\"peach\",\"pear\",\"grape\",\"mango\",\"orange\",\"papaya\"]\n",
    "fal"
   ]
  },
  {
   "cell_type": "code",
   "execution_count": 2,
   "metadata": {},
   "outputs": [
    {
     "data": {
      "text/plain": [
       "list"
      ]
     },
     "execution_count": 2,
     "metadata": {},
     "output_type": "execute_result"
    }
   ],
   "source": [
    "type(fal)"
   ]
  },
  {
   "cell_type": "code",
   "execution_count": 3,
   "metadata": {},
   "outputs": [
    {
     "data": {
      "text/plain": [
       "10"
      ]
     },
     "execution_count": 3,
     "metadata": {},
     "output_type": "execute_result"
    }
   ],
   "source": [
    "len(fal)"
   ]
  },
  {
   "cell_type": "code",
   "execution_count": 4,
   "metadata": {},
   "outputs": [
    {
     "name": "stdout",
     "output_type": "stream",
     "text": [
      "* apple\n",
      "* banana\n",
      "* cheeku\n",
      "* kivi\n",
      "* peach\n",
      "* pear\n",
      "* grape\n",
      "* mango\n",
      "* orange\n",
      "* papaya\n"
     ]
    }
   ],
   "source": [
    "for i in fal:\n",
    "    print('*',i)"
   ]
  },
  {
   "cell_type": "markdown",
   "metadata": {},
   "source": [
    "# indexing"
   ]
  },
  {
   "cell_type": "code",
   "execution_count": 5,
   "metadata": {},
   "outputs": [
    {
     "data": {
      "text/plain": [
       "'mango'"
      ]
     },
     "execution_count": 5,
     "metadata": {},
     "output_type": "execute_result"
    }
   ],
   "source": [
    "fal[7]"
   ]
  },
  {
   "cell_type": "code",
   "execution_count": 6,
   "metadata": {},
   "outputs": [
    {
     "data": {
      "text/plain": [
       "'papaya'"
      ]
     },
     "execution_count": 6,
     "metadata": {},
     "output_type": "execute_result"
    }
   ],
   "source": [
    "fal[-1]"
   ]
  },
  {
   "cell_type": "code",
   "execution_count": 8,
   "metadata": {},
   "outputs": [
    {
     "data": {
      "text/plain": [
       "[6, 78.86, 78, 8]"
      ]
     },
     "execution_count": 8,
     "metadata": {},
     "output_type": "execute_result"
    }
   ],
   "source": [
    "x=[6,78.86,78,8]\n",
    "x"
   ]
  },
  {
   "cell_type": "code",
   "execution_count": 9,
   "metadata": {},
   "outputs": [
    {
     "data": {
      "text/plain": [
       "list"
      ]
     },
     "execution_count": 9,
     "metadata": {},
     "output_type": "execute_result"
    }
   ],
   "source": [
    "type(x)"
   ]
  },
  {
   "cell_type": "code",
   "execution_count": 10,
   "metadata": {},
   "outputs": [
    {
     "name": "stdout",
     "output_type": "stream",
     "text": [
      " 6\n",
      " 78.86\n",
      " 78\n",
      " 8\n"
     ]
    }
   ],
   "source": [
    "for i in x:\n",
    "    print('',i)"
   ]
  },
  {
   "cell_type": "code",
   "execution_count": 11,
   "metadata": {},
   "outputs": [
    {
     "data": {
      "text/plain": [
       "78.86"
      ]
     },
     "execution_count": 11,
     "metadata": {},
     "output_type": "execute_result"
    }
   ],
   "source": [
    "x[-3]"
   ]
  },
  {
   "cell_type": "code",
   "execution_count": 5,
   "metadata": {},
   "outputs": [
    {
     "data": {
      "text/plain": [
       "['banana', 'cheeku', 'kivi']"
      ]
     },
     "execution_count": 5,
     "metadata": {},
     "output_type": "execute_result"
    }
   ],
   "source": [
    "fal=[\"apple\",\"banana\",\"cheeku\",\"kivi\",\"peach\",\"pear\",\"grape\",\"mango\",\"orange\",\"papaya\"]\n",
    "fal[1:4]"
   ]
  },
  {
   "cell_type": "code",
   "execution_count": 6,
   "metadata": {},
   "outputs": [
    {
     "data": {
      "text/plain": [
       "['apple', 'kivi', 'grape', 'papaya']"
      ]
     },
     "execution_count": 6,
     "metadata": {},
     "output_type": "execute_result"
    }
   ],
   "source": [
    "fal[0::3]"
   ]
  },
  {
   "cell_type": "code",
   "execution_count": 14,
   "metadata": {},
   "outputs": [
    {
     "name": "stdout",
     "output_type": "stream",
     "text": [
      "apple\n",
      "grape\n",
      "orange\n"
     ]
    }
   ],
   "source": [
    "for d in fal:\n",
    "    if d.endswith('e'):\n",
    "        print(d)"
   ]
  },
  {
   "cell_type": "code",
   "execution_count": 15,
   "metadata": {},
   "outputs": [
    {
     "name": "stdout",
     "output_type": "stream",
     "text": [
      "cheeku\n"
     ]
    }
   ],
   "source": [
    "for fal in fal:\n",
    "    if \"u\" in fal:\n",
    "        print(fal)"
   ]
  },
  {
   "cell_type": "markdown",
   "metadata": {},
   "source": [
    "### functions\n",
    "***adding/ updating***\n",
    "- append\n",
    "- insert\n",
    "- extend\n",
    "\n",
    "***removing***\n",
    "- remove\n",
    "- pop\n",
    "- clear\n",
    "\n",
    "***utilities***\n",
    "- sort\n",
    "- reverse\n",
    "- copy\n",
    "- index\n",
    "- count"
   ]
  },
  {
   "cell_type": "code",
   "execution_count": 18,
   "metadata": {},
   "outputs": [],
   "source": [
    "fal.append(\"strawberry\")"
   ]
  },
  {
   "cell_type": "code",
   "execution_count": 19,
   "metadata": {},
   "outputs": [
    {
     "data": {
      "text/plain": [
       "['apple',\n",
       " 'banana',\n",
       " 'cheeku',\n",
       " 'kivi',\n",
       " 'peach',\n",
       " 'pear',\n",
       " 'grape',\n",
       " 'mango',\n",
       " 'orange',\n",
       " 'papaya',\n",
       " 'strawberry']"
      ]
     },
     "execution_count": 19,
     "metadata": {},
     "output_type": "execute_result"
    }
   ],
   "source": [
    "fal"
   ]
  },
  {
   "cell_type": "code",
   "execution_count": 20,
   "metadata": {},
   "outputs": [
    {
     "name": "stdin",
     "output_type": "stream",
     "text": [
      "last fal: apricot\n"
     ]
    }
   ],
   "source": [
    "fal.append(\"guava\")\n",
    "fal.append(\"raspberry\")\n",
    "fal.append(\"pineapple\")\n",
    "fal.append(\"cherry\")\n",
    "fal.append(input(\"last fal:\"))"
   ]
  },
  {
   "cell_type": "code",
   "execution_count": 21,
   "metadata": {},
   "outputs": [
    {
     "data": {
      "text/plain": [
       "['apple',\n",
       " 'banana',\n",
       " 'cheeku',\n",
       " 'kivi',\n",
       " 'peach',\n",
       " 'pear',\n",
       " 'grape',\n",
       " 'mango',\n",
       " 'orange',\n",
       " 'papaya',\n",
       " 'strawberry',\n",
       " 'guava',\n",
       " 'raspberry',\n",
       " 'pineapple',\n",
       " 'cherry',\n",
       " 'apricot']"
      ]
     },
     "execution_count": 21,
     "metadata": {},
     "output_type": "execute_result"
    }
   ],
   "source": [
    "fal"
   ]
  },
  {
   "cell_type": "code",
   "execution_count": 22,
   "metadata": {},
   "outputs": [
    {
     "data": {
      "text/plain": [
       "16"
      ]
     },
     "execution_count": 22,
     "metadata": {},
     "output_type": "execute_result"
    }
   ],
   "source": [
    "len(fal)"
   ]
  },
  {
   "cell_type": "code",
   "execution_count": 23,
   "metadata": {},
   "outputs": [
    {
     "name": "stdin",
     "output_type": "stream",
     "text": [
      "val: 456\n",
      "val: 66\n",
      "val: 456\n",
      "val: 3334\n",
      "val: 445\n"
     ]
    }
   ],
   "source": [
    "o=[]\n",
    "for t in range(5):\n",
    "    data= int(input('val:'))\n",
    "    o.append(data)"
   ]
  },
  {
   "cell_type": "code",
   "execution_count": 24,
   "metadata": {},
   "outputs": [
    {
     "data": {
      "text/plain": [
       "[456, 66, 456, 3334, 445]"
      ]
     },
     "execution_count": 24,
     "metadata": {},
     "output_type": "execute_result"
    }
   ],
   "source": [
    "o"
   ]
  },
  {
   "cell_type": "code",
   "execution_count": 25,
   "metadata": {},
   "outputs": [
    {
     "data": {
      "text/plain": [
       "4757"
      ]
     },
     "execution_count": 25,
     "metadata": {},
     "output_type": "execute_result"
    }
   ],
   "source": [
    "sum(o)"
   ]
  },
  {
   "cell_type": "code",
   "execution_count": 26,
   "metadata": {},
   "outputs": [
    {
     "data": {
      "text/plain": [
       "66"
      ]
     },
     "execution_count": 26,
     "metadata": {},
     "output_type": "execute_result"
    }
   ],
   "source": [
    "min(o)"
   ]
  },
  {
   "cell_type": "code",
   "execution_count": 27,
   "metadata": {},
   "outputs": [
    {
     "data": {
      "text/plain": [
       "3334"
      ]
     },
     "execution_count": 27,
     "metadata": {},
     "output_type": "execute_result"
    }
   ],
   "source": [
    "max(o)"
   ]
  },
  {
   "cell_type": "code",
   "execution_count": 28,
   "metadata": {},
   "outputs": [],
   "source": [
    "fal.insert(1,'cranberry')"
   ]
  },
  {
   "cell_type": "code",
   "execution_count": 29,
   "metadata": {},
   "outputs": [
    {
     "data": {
      "text/plain": [
       "['apple',\n",
       " 'cranberry',\n",
       " 'banana',\n",
       " 'cheeku',\n",
       " 'kivi',\n",
       " 'peach',\n",
       " 'pear',\n",
       " 'grape',\n",
       " 'mango',\n",
       " 'orange',\n",
       " 'papaya',\n",
       " 'strawberry',\n",
       " 'guava',\n",
       " 'raspberry',\n",
       " 'pineapple',\n",
       " 'cherry',\n",
       " 'apricot']"
      ]
     },
     "execution_count": 29,
     "metadata": {},
     "output_type": "execute_result"
    }
   ],
   "source": [
    "fal"
   ]
  },
  {
   "cell_type": "code",
   "execution_count": 30,
   "metadata": {},
   "outputs": [],
   "source": [
    "fal.insert(100,'keenu')"
   ]
  },
  {
   "cell_type": "code",
   "execution_count": 31,
   "metadata": {},
   "outputs": [
    {
     "data": {
      "text/plain": [
       "['apple',\n",
       " 'cranberry',\n",
       " 'banana',\n",
       " 'cheeku',\n",
       " 'kivi',\n",
       " 'peach',\n",
       " 'pear',\n",
       " 'grape',\n",
       " 'mango',\n",
       " 'orange',\n",
       " 'papaya',\n",
       " 'strawberry',\n",
       " 'guava',\n",
       " 'raspberry',\n",
       " 'pineapple',\n",
       " 'cherry',\n",
       " 'apricot',\n",
       " 'keenu']"
      ]
     },
     "execution_count": 31,
     "metadata": {},
     "output_type": "execute_result"
    }
   ],
   "source": [
    "fal"
   ]
  },
  {
   "cell_type": "code",
   "execution_count": 39,
   "metadata": {},
   "outputs": [],
   "source": [
    "dry=['cashew','almond','walnut','hazelnut']\n",
    "fal.extend(dry)"
   ]
  },
  {
   "cell_type": "code",
   "execution_count": 40,
   "metadata": {},
   "outputs": [
    {
     "data": {
      "text/plain": [
       "['apple',\n",
       " 'cranberry',\n",
       " 'banana',\n",
       " 'cheeku',\n",
       " 'peach',\n",
       " 'pear',\n",
       " 'grape',\n",
       " 'mango',\n",
       " 'orange',\n",
       " 'papaya',\n",
       " 'strawberry',\n",
       " 'guava',\n",
       " 'raspberry',\n",
       " 'pineapple',\n",
       " 'cherry',\n",
       " 'apricot',\n",
       " 'keenu',\n",
       " 'cashew',\n",
       " 'walnut',\n",
       " 'hazelnut',\n",
       " 'cashew',\n",
       " 'almond',\n",
       " 'walnut',\n",
       " 'hazelnut']"
      ]
     },
     "execution_count": 40,
     "metadata": {},
     "output_type": "execute_result"
    }
   ],
   "source": [
    "fal"
   ]
  },
  {
   "cell_type": "code",
   "execution_count": 34,
   "metadata": {},
   "outputs": [
    {
     "data": {
      "text/plain": [
       "['apple',\n",
       " 'cranberry',\n",
       " 'banana',\n",
       " 'cheeku',\n",
       " 'peach',\n",
       " 'pear',\n",
       " 'grape',\n",
       " 'mango',\n",
       " 'orange',\n",
       " 'papaya',\n",
       " 'strawberry',\n",
       " 'guava',\n",
       " 'raspberry',\n",
       " 'pineapple',\n",
       " 'cherry',\n",
       " 'apricot',\n",
       " 'keenu',\n",
       " 'cashew',\n",
       " 'almond',\n",
       " 'walnut',\n",
       " 'hazelnut']"
      ]
     },
     "execution_count": 34,
     "metadata": {},
     "output_type": "execute_result"
    }
   ],
   "source": [
    "fal.remove('kivi')\n",
    "fal"
   ]
  },
  {
   "cell_type": "code",
   "execution_count": 41,
   "metadata": {},
   "outputs": [
    {
     "name": "stdin",
     "output_type": "stream",
     "text": [
      "fal: almond\n"
     ]
    },
    {
     "name": "stdout",
     "output_type": "stream",
     "text": [
      "['apple', 'cranberry', 'banana', 'cheeku', 'peach', 'pear', 'grape', 'mango', 'orange', 'papaya', 'strawberry', 'guava', 'raspberry', 'pineapple', 'cherry', 'apricot', 'keenu', 'cashew', 'walnut', 'hazelnut', 'cashew', 'walnut', 'hazelnut']\n"
     ]
    }
   ],
   "source": [
    "re=input(\"fal:\")\n",
    "if re in fal:\n",
    "    fal.remove(re)\n",
    "    print(fal)\n",
    "else:\n",
    "    print(\"absent\")"
   ]
  },
  {
   "cell_type": "code",
   "execution_count": 42,
   "metadata": {},
   "outputs": [],
   "source": [
    "if 'almond' in fal:\n",
    "    fal.remove('cherry')"
   ]
  },
  {
   "cell_type": "code",
   "execution_count": 43,
   "metadata": {},
   "outputs": [
    {
     "data": {
      "text/plain": [
       "['apple',\n",
       " 'cranberry',\n",
       " 'banana',\n",
       " 'cheeku',\n",
       " 'peach',\n",
       " 'pear',\n",
       " 'grape',\n",
       " 'mango',\n",
       " 'orange',\n",
       " 'papaya',\n",
       " 'strawberry',\n",
       " 'guava',\n",
       " 'raspberry',\n",
       " 'pineapple',\n",
       " 'cherry',\n",
       " 'apricot',\n",
       " 'keenu',\n",
       " 'cashew',\n",
       " 'walnut',\n",
       " 'hazelnut',\n",
       " 'cashew',\n",
       " 'walnut',\n",
       " 'hazelnut']"
      ]
     },
     "execution_count": 43,
     "metadata": {},
     "output_type": "execute_result"
    }
   ],
   "source": [
    "fal"
   ]
  },
  {
   "cell_type": "code",
   "execution_count": 44,
   "metadata": {},
   "outputs": [
    {
     "data": {
      "text/plain": [
       "'banana'"
      ]
     },
     "execution_count": 44,
     "metadata": {},
     "output_type": "execute_result"
    }
   ],
   "source": [
    "fal.pop(2)"
   ]
  },
  {
   "cell_type": "code",
   "execution_count": 45,
   "metadata": {},
   "outputs": [
    {
     "data": {
      "text/plain": [
       "'hazelnut'"
      ]
     },
     "execution_count": 45,
     "metadata": {},
     "output_type": "execute_result"
    }
   ],
   "source": [
    "fal.pop()"
   ]
  },
  {
   "cell_type": "code",
   "execution_count": 46,
   "metadata": {},
   "outputs": [
    {
     "data": {
      "text/plain": [
       "[]"
      ]
     },
     "execution_count": 46,
     "metadata": {},
     "output_type": "execute_result"
    }
   ],
   "source": [
    "fal.clear()\n",
    "fal"
   ]
  },
  {
   "cell_type": "code",
   "execution_count": 47,
   "metadata": {},
   "outputs": [],
   "source": [
    "fruits=[\"apple\",\"banana\",\"cheeku\",\"kivi\",\"peach\",\"pear\",\"grape\",\"mango\",\"orange\",\"papaya\"]"
   ]
  },
  {
   "cell_type": "code",
   "execution_count": 48,
   "metadata": {},
   "outputs": [
    {
     "data": {
      "text/plain": [
       "['apple',\n",
       " 'banana',\n",
       " 'cheeku',\n",
       " 'grape',\n",
       " 'kivi',\n",
       " 'mango',\n",
       " 'orange',\n",
       " 'papaya',\n",
       " 'peach',\n",
       " 'pear']"
      ]
     },
     "execution_count": 48,
     "metadata": {},
     "output_type": "execute_result"
    }
   ],
   "source": [
    "fruits.sort()\n",
    "fruits"
   ]
  },
  {
   "cell_type": "code",
   "execution_count": 49,
   "metadata": {},
   "outputs": [
    {
     "data": {
      "text/plain": [
       "['pear',\n",
       " 'peach',\n",
       " 'papaya',\n",
       " 'orange',\n",
       " 'mango',\n",
       " 'kivi',\n",
       " 'grape',\n",
       " 'cheeku',\n",
       " 'banana',\n",
       " 'apple']"
      ]
     },
     "execution_count": 49,
     "metadata": {},
     "output_type": "execute_result"
    }
   ],
   "source": [
    "fruits.reverse()\n",
    "fruits"
   ]
  },
  {
   "cell_type": "code",
   "execution_count": 50,
   "metadata": {},
   "outputs": [
    {
     "data": {
      "text/plain": [
       "5"
      ]
     },
     "execution_count": 50,
     "metadata": {},
     "output_type": "execute_result"
    }
   ],
   "source": [
    "a=fruits.index('mango')\n",
    "c=a+1\n",
    "c"
   ]
  },
  {
   "cell_type": "code",
   "execution_count": 51,
   "metadata": {},
   "outputs": [
    {
     "data": {
      "text/plain": [
       "1"
      ]
     },
     "execution_count": 51,
     "metadata": {},
     "output_type": "execute_result"
    }
   ],
   "source": [
    "fruits.count('kivi')"
   ]
  },
  {
   "cell_type": "code",
   "execution_count": 52,
   "metadata": {},
   "outputs": [
    {
     "name": "stdout",
     "output_type": "stream",
     "text": [
      "[1, 2, 45, 3, 44]\n",
      "[1, 2, 45, 3]\n"
     ]
    }
   ],
   "source": [
    "l1=[1,2,45,3]\n",
    "l2=l1.copy()\n",
    "l1.append(44)\n",
    "print(l1)\n",
    "print(l2)"
   ]
  },
  {
   "cell_type": "code",
   "execution_count": 7,
   "metadata": {},
   "outputs": [
    {
     "name": "stdin",
     "output_type": "stream",
     "text": [
      "price 34\n",
      "price 5.5\n",
      "price \n"
     ]
    },
    {
     "name": "stdout",
     "output_type": "stream",
     "text": [
      "total expence 39.5\n"
     ]
    }
   ],
   "source": [
    "exp=[]\n",
    "while True:\n",
    "    price = input(\"price\")\n",
    "    if price and price.isnumeric :\n",
    "        exp.append(float(price))\n",
    "    else:\n",
    "        break\n",
    "print(\"total expence\",sum(exp))"
   ]
  },
  {
   "cell_type": "code",
   "execution_count": 1,
   "metadata": {},
   "outputs": [
    {
     "name": "stdin",
     "output_type": "stream",
     "text": [
      "enter i am\n",
      "enter ironman\n",
      "enter !!!\n",
      "enter \n"
     ]
    },
    {
     "data": {
      "text/plain": [
       "'i am ironman !!! '"
      ]
     },
     "execution_count": 1,
     "metadata": {},
     "output_type": "execute_result"
    }
   ],
   "source": [
    "i =\"\"\n",
    "while True:\n",
    "    pr =input(\"enter\")\n",
    "    if pr:\n",
    "        i=i + pr + \" \" \n",
    "    else:\n",
    "        break\n",
    "i"
   ]
  },
  {
   "cell_type": "code",
   "execution_count": null,
   "metadata": {},
   "outputs": [],
   "source": []
  }
 ],
 "metadata": {
  "kernelspec": {
   "display_name": "Python 3",
   "language": "python",
   "name": "python3"
  },
  "language_info": {
   "codemirror_mode": {
    "name": "ipython",
    "version": 3
   },
   "file_extension": ".py",
   "mimetype": "text/x-python",
   "name": "python",
   "nbconvert_exporter": "python",
   "pygments_lexer": "ipython3",
   "version": "3.7.1"
  }
 },
 "nbformat": 4,
 "nbformat_minor": 2
}
